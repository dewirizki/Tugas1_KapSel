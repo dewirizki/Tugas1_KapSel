{
  "nbformat": 4,
  "nbformat_minor": 0,
  "metadata": {
    "colab": {
      "name": "Tugas 1_Kapita Selekta_SMA-SNA 2021",
      "provenance": [],
      "collapsed_sections": [],
      "include_colab_link": true
    },
    "kernelspec": {
      "display_name": "Python 3",
      "name": "python3"
    },
    "language_info": {
      "name": "python"
    }
  },
  "cells": [
    {
      "cell_type": "markdown",
      "metadata": {
        "id": "view-in-github",
        "colab_type": "text"
      },
      "source": [
        "<a href=\"https://colab.research.google.com/github/dewirizki/Tugas1_KapSel/blob/main/Tugas_1_Kapita_Selekta_SMA_SNA_2021.ipynb\" target=\"_parent\"><img src=\"https://colab.research.google.com/assets/colab-badge.svg\" alt=\"Open In Colab\"/></a>"
      ]
    },
    {
      "cell_type": "code",
      "metadata": {
        "id": "6_WJDOHmptvb",
        "colab": {
          "base_uri": "https://localhost:8080/"
        },
        "outputId": "03fa5133-4be6-438e-b20e-8a716cabfd1e"
      },
      "source": [
        "!pip install unidecode twython tweepy beautifulsoup4 tika"
      ],
      "execution_count": null,
      "outputs": [
        {
          "output_type": "stream",
          "name": "stdout",
          "text": [
            "Requirement already satisfied: unidecode in /usr/local/lib/python3.7/dist-packages (1.3.2)\n",
            "Requirement already satisfied: twython in /usr/local/lib/python3.7/dist-packages (3.9.1)\n",
            "Requirement already satisfied: tweepy in /usr/local/lib/python3.7/dist-packages (3.10.0)\n",
            "Requirement already satisfied: beautifulsoup4 in /usr/local/lib/python3.7/dist-packages (4.6.3)\n",
            "Requirement already satisfied: tika in /usr/local/lib/python3.7/dist-packages (1.24)\n",
            "Requirement already satisfied: requests>=2.1.0 in /usr/local/lib/python3.7/dist-packages (from twython) (2.23.0)\n",
            "Requirement already satisfied: requests-oauthlib>=0.4.0 in /usr/local/lib/python3.7/dist-packages (from twython) (1.3.0)\n",
            "Requirement already satisfied: idna<3,>=2.5 in /usr/local/lib/python3.7/dist-packages (from requests>=2.1.0->twython) (2.10)\n",
            "Requirement already satisfied: chardet<4,>=3.0.2 in /usr/local/lib/python3.7/dist-packages (from requests>=2.1.0->twython) (3.0.4)\n",
            "Requirement already satisfied: urllib3!=1.25.0,!=1.25.1,<1.26,>=1.21.1 in /usr/local/lib/python3.7/dist-packages (from requests>=2.1.0->twython) (1.24.3)\n",
            "Requirement already satisfied: certifi>=2017.4.17 in /usr/local/lib/python3.7/dist-packages (from requests>=2.1.0->twython) (2021.5.30)\n",
            "Requirement already satisfied: oauthlib>=3.0.0 in /usr/local/lib/python3.7/dist-packages (from requests-oauthlib>=0.4.0->twython) (3.1.1)\n",
            "Requirement already satisfied: six>=1.10.0 in /usr/local/lib/python3.7/dist-packages (from tweepy) (1.15.0)\n",
            "Requirement already satisfied: PySocks!=1.5.7,>=1.5.6 in /usr/local/lib/python3.7/dist-packages (from requests>=2.1.0->twython) (1.7.1)\n",
            "Requirement already satisfied: setuptools in /usr/local/lib/python3.7/dist-packages (from tika) (57.4.0)\n"
          ]
        }
      ]
    },
    {
      "cell_type": "code",
      "metadata": {
        "colab": {
          "base_uri": "https://localhost:8080/"
        },
        "id": "U1_R0tG9IGad",
        "outputId": "32076635-f8b5-41b9-9af3-ac39b057014b"
      },
      "source": [
        "import nltk\n",
        "\n",
        "!wget https://raw.githubusercontent.com/taudata-indonesia/eLearning/master/taudataNlpTm.py\n",
        "!mkdir data\n",
        "!wget -P data/ https://raw.githubusercontent.com/taudata-indonesia/eLearning/master/data/slang.txt\n",
        "!wget -P data/ https://raw.githubusercontent.com/taudata-indonesia/eLearning/master/data/kata_dasar.txt\n",
        "!wget -P data/ https://raw.githubusercontent.com/taudata-indonesia/eLearning/master/data/stopwords_id.txt\n",
        "!wget -P data/ https://raw.githubusercontent.com/taudata-indonesia/eLearning/master/data/stopwords_en.txt\n",
        "!wget -P data/ https://raw.githubusercontent.com/taudata-indonesia/eLearning/master/data/wn-ind-def.tab\n",
        "!wget -P data/ https://raw.githubusercontent.com/taudata-indonesia/eLearning/master/data/wn-msa-all.tab\n",
        "!wget -P data/ https://raw.githubusercontent.com/taudata-indonesia/eLearning/master/data/all_indo_man_tag_corpus_model.crf.tagger\n",
        "\n",
        "!pip install spacy python-crfsuite unidecode textblob sastrawi\n",
        "!python -m spacy download en\n",
        "!python -m spacy download xx\n",
        "!python -m spacy download en_core_web_sm\n",
        "\n",
        "nltk.download('popular')"
      ],
      "execution_count": null,
      "outputs": [
        {
          "output_type": "stream",
          "name": "stdout",
          "text": [
            "--2021-11-01 14:58:19--  https://raw.githubusercontent.com/taudata-indonesia/eLearning/master/taudataNlpTm.py\n",
            "Resolving raw.githubusercontent.com (raw.githubusercontent.com)... 185.199.108.133, 185.199.109.133, 185.199.110.133, ...\n",
            "Connecting to raw.githubusercontent.com (raw.githubusercontent.com)|185.199.108.133|:443... connected.\n",
            "HTTP request sent, awaiting response... 200 OK\n",
            "Length: 16713 (16K) [text/plain]\n",
            "Saving to: ‘taudataNlpTm.py.5’\n",
            "\n",
            "\rtaudataNlpTm.py.5     0%[                    ]       0  --.-KB/s               \rtaudataNlpTm.py.5   100%[===================>]  16.32K  --.-KB/s    in 0s      \n",
            "\n",
            "2021-11-01 14:58:19 (69.2 MB/s) - ‘taudataNlpTm.py.5’ saved [16713/16713]\n",
            "\n",
            "mkdir: cannot create directory ‘data’: File exists\n",
            "--2021-11-01 14:58:19--  https://raw.githubusercontent.com/taudata-indonesia/eLearning/master/data/slang.txt\n",
            "Resolving raw.githubusercontent.com (raw.githubusercontent.com)... 185.199.108.133, 185.199.109.133, 185.199.110.133, ...\n",
            "Connecting to raw.githubusercontent.com (raw.githubusercontent.com)|185.199.108.133|:443... connected.\n",
            "HTTP request sent, awaiting response... 200 OK\n",
            "Length: 29041 (28K) [text/plain]\n",
            "Saving to: ‘data/slang.txt.5’\n",
            "\n",
            "slang.txt.5         100%[===================>]  28.36K  --.-KB/s    in 0.002s  \n",
            "\n",
            "2021-11-01 14:58:19 (13.5 MB/s) - ‘data/slang.txt.5’ saved [29041/29041]\n",
            "\n",
            "--2021-11-01 14:58:19--  https://raw.githubusercontent.com/taudata-indonesia/eLearning/master/data/kata_dasar.txt\n",
            "Resolving raw.githubusercontent.com (raw.githubusercontent.com)... 185.199.108.133, 185.199.109.133, 185.199.110.133, ...\n",
            "Connecting to raw.githubusercontent.com (raw.githubusercontent.com)|185.199.108.133|:443... connected.\n",
            "HTTP request sent, awaiting response... 200 OK\n",
            "Length: 348507 (340K) [text/plain]\n",
            "Saving to: ‘data/kata_dasar.txt.5’\n",
            "\n",
            "kata_dasar.txt.5    100%[===================>] 340.34K  --.-KB/s    in 0.03s   \n",
            "\n",
            "2021-11-01 14:58:19 (10.2 MB/s) - ‘data/kata_dasar.txt.5’ saved [348507/348507]\n",
            "\n",
            "--2021-11-01 14:58:19--  https://raw.githubusercontent.com/taudata-indonesia/eLearning/master/data/stopwords_id.txt\n",
            "Resolving raw.githubusercontent.com (raw.githubusercontent.com)... 185.199.109.133, 185.199.110.133, 185.199.108.133, ...\n",
            "Connecting to raw.githubusercontent.com (raw.githubusercontent.com)|185.199.109.133|:443... connected.\n",
            "HTTP request sent, awaiting response... 200 OK\n",
            "Length: 6446 (6.3K) [text/plain]\n",
            "Saving to: ‘data/stopwords_id.txt.5’\n",
            "\n",
            "stopwords_id.txt.5  100%[===================>]   6.29K  --.-KB/s    in 0s      \n",
            "\n",
            "2021-11-01 14:58:19 (69.4 MB/s) - ‘data/stopwords_id.txt.5’ saved [6446/6446]\n",
            "\n",
            "--2021-11-01 14:58:19--  https://raw.githubusercontent.com/taudata-indonesia/eLearning/master/data/stopwords_en.txt\n",
            "Resolving raw.githubusercontent.com (raw.githubusercontent.com)... 185.199.108.133, 185.199.109.133, 185.199.110.133, ...\n",
            "Connecting to raw.githubusercontent.com (raw.githubusercontent.com)|185.199.108.133|:443... connected.\n",
            "HTTP request sent, awaiting response... 200 OK\n",
            "Length: 15140 (15K) [text/plain]\n",
            "Saving to: ‘data/stopwords_en.txt.5’\n",
            "\n",
            "stopwords_en.txt.5  100%[===================>]  14.79K  --.-KB/s    in 0s      \n",
            "\n",
            "2021-11-01 14:58:19 (91.7 MB/s) - ‘data/stopwords_en.txt.5’ saved [15140/15140]\n",
            "\n",
            "--2021-11-01 14:58:20--  https://raw.githubusercontent.com/taudata-indonesia/eLearning/master/data/wn-ind-def.tab\n",
            "Resolving raw.githubusercontent.com (raw.githubusercontent.com)... 185.199.108.133, 185.199.109.133, 185.199.110.133, ...\n",
            "Connecting to raw.githubusercontent.com (raw.githubusercontent.com)|185.199.108.133|:443... connected.\n",
            "HTTP request sent, awaiting response... 200 OK\n",
            "Length: 868322 (848K) [text/plain]\n",
            "Saving to: ‘data/wn-ind-def.tab.5’\n",
            "\n",
            "wn-ind-def.tab.5    100%[===================>] 847.97K  --.-KB/s    in 0.05s   \n",
            "\n",
            "2021-11-01 14:58:20 (18.2 MB/s) - ‘data/wn-ind-def.tab.5’ saved [868322/868322]\n",
            "\n",
            "--2021-11-01 14:58:20--  https://raw.githubusercontent.com/taudata-indonesia/eLearning/master/data/wn-msa-all.tab\n",
            "Resolving raw.githubusercontent.com (raw.githubusercontent.com)... 185.199.110.133, 185.199.111.133, 185.199.108.133, ...\n",
            "Connecting to raw.githubusercontent.com (raw.githubusercontent.com)|185.199.110.133|:443... connected.\n",
            "HTTP request sent, awaiting response... 200 OK\n",
            "Length: 17003012 (16M) [text/plain]\n",
            "Saving to: ‘data/wn-msa-all.tab.5’\n",
            "\n",
            "wn-msa-all.tab.5    100%[===================>]  16.21M  --.-KB/s    in 0.1s    \n",
            "\n",
            "2021-11-01 14:58:20 (126 MB/s) - ‘data/wn-msa-all.tab.5’ saved [17003012/17003012]\n",
            "\n",
            "--2021-11-01 14:58:20--  https://raw.githubusercontent.com/taudata-indonesia/eLearning/master/data/all_indo_man_tag_corpus_model.crf.tagger\n",
            "Resolving raw.githubusercontent.com (raw.githubusercontent.com)... 185.199.111.133, 185.199.108.133, 185.199.110.133, ...\n",
            "Connecting to raw.githubusercontent.com (raw.githubusercontent.com)|185.199.111.133|:443... connected.\n",
            "HTTP request sent, awaiting response... 200 OK\n",
            "Length: 1722780 (1.6M) [application/octet-stream]\n",
            "Saving to: ‘data/all_indo_man_tag_corpus_model.crf.tagger.5’\n",
            "\n",
            "all_indo_man_tag_co 100%[===================>]   1.64M  --.-KB/s    in 0.06s   \n",
            "\n",
            "2021-11-01 14:58:20 (29.8 MB/s) - ‘data/all_indo_man_tag_corpus_model.crf.tagger.5’ saved [1722780/1722780]\n",
            "\n",
            "Requirement already satisfied: spacy in /usr/local/lib/python3.7/dist-packages (2.2.4)\n",
            "Requirement already satisfied: python-crfsuite in /usr/local/lib/python3.7/dist-packages (0.9.7)\n",
            "Requirement already satisfied: unidecode in /usr/local/lib/python3.7/dist-packages (1.3.2)\n",
            "Requirement already satisfied: textblob in /usr/local/lib/python3.7/dist-packages (0.15.3)\n",
            "Requirement already satisfied: sastrawi in /usr/local/lib/python3.7/dist-packages (1.0.1)\n",
            "Requirement already satisfied: setuptools in /usr/local/lib/python3.7/dist-packages (from spacy) (57.4.0)\n",
            "Requirement already satisfied: preshed<3.1.0,>=3.0.2 in /usr/local/lib/python3.7/dist-packages (from spacy) (3.0.5)\n",
            "Requirement already satisfied: srsly<1.1.0,>=1.0.2 in /usr/local/lib/python3.7/dist-packages (from spacy) (1.0.5)\n",
            "Requirement already satisfied: tqdm<5.0.0,>=4.38.0 in /usr/local/lib/python3.7/dist-packages (from spacy) (4.62.3)\n",
            "Requirement already satisfied: requests<3.0.0,>=2.13.0 in /usr/local/lib/python3.7/dist-packages (from spacy) (2.23.0)\n",
            "Requirement already satisfied: wasabi<1.1.0,>=0.4.0 in /usr/local/lib/python3.7/dist-packages (from spacy) (0.8.2)\n",
            "Requirement already satisfied: blis<0.5.0,>=0.4.0 in /usr/local/lib/python3.7/dist-packages (from spacy) (0.4.1)\n",
            "Requirement already satisfied: thinc==7.4.0 in /usr/local/lib/python3.7/dist-packages (from spacy) (7.4.0)\n",
            "Requirement already satisfied: cymem<2.1.0,>=2.0.2 in /usr/local/lib/python3.7/dist-packages (from spacy) (2.0.5)\n",
            "Requirement already satisfied: numpy>=1.15.0 in /usr/local/lib/python3.7/dist-packages (from spacy) (1.19.5)\n",
            "Requirement already satisfied: murmurhash<1.1.0,>=0.28.0 in /usr/local/lib/python3.7/dist-packages (from spacy) (1.0.5)\n",
            "Requirement already satisfied: catalogue<1.1.0,>=0.0.7 in /usr/local/lib/python3.7/dist-packages (from spacy) (1.0.0)\n",
            "Requirement already satisfied: plac<1.2.0,>=0.9.6 in /usr/local/lib/python3.7/dist-packages (from spacy) (1.1.3)\n",
            "Requirement already satisfied: importlib-metadata>=0.20 in /usr/local/lib/python3.7/dist-packages (from catalogue<1.1.0,>=0.0.7->spacy) (4.8.1)\n",
            "Requirement already satisfied: typing-extensions>=3.6.4 in /usr/local/lib/python3.7/dist-packages (from importlib-metadata>=0.20->catalogue<1.1.0,>=0.0.7->spacy) (3.7.4.3)\n",
            "Requirement already satisfied: zipp>=0.5 in /usr/local/lib/python3.7/dist-packages (from importlib-metadata>=0.20->catalogue<1.1.0,>=0.0.7->spacy) (3.6.0)\n",
            "Requirement already satisfied: chardet<4,>=3.0.2 in /usr/local/lib/python3.7/dist-packages (from requests<3.0.0,>=2.13.0->spacy) (3.0.4)\n",
            "Requirement already satisfied: certifi>=2017.4.17 in /usr/local/lib/python3.7/dist-packages (from requests<3.0.0,>=2.13.0->spacy) (2021.5.30)\n",
            "Requirement already satisfied: idna<3,>=2.5 in /usr/local/lib/python3.7/dist-packages (from requests<3.0.0,>=2.13.0->spacy) (2.10)\n",
            "Requirement already satisfied: urllib3!=1.25.0,!=1.25.1,<1.26,>=1.21.1 in /usr/local/lib/python3.7/dist-packages (from requests<3.0.0,>=2.13.0->spacy) (1.24.3)\n",
            "Requirement already satisfied: nltk>=3.1 in /usr/local/lib/python3.7/dist-packages (from textblob) (3.2.5)\n",
            "Requirement already satisfied: six in /usr/local/lib/python3.7/dist-packages (from nltk>=3.1->textblob) (1.15.0)\n",
            "Collecting en_core_web_sm==2.2.5\n",
            "  Downloading https://github.com/explosion/spacy-models/releases/download/en_core_web_sm-2.2.5/en_core_web_sm-2.2.5.tar.gz (12.0 MB)\n",
            "\u001b[K     |████████████████████████████████| 12.0 MB 5.0 MB/s \n",
            "\u001b[?25hRequirement already satisfied: spacy>=2.2.2 in /usr/local/lib/python3.7/dist-packages (from en_core_web_sm==2.2.5) (2.2.4)\n",
            "Requirement already satisfied: requests<3.0.0,>=2.13.0 in /usr/local/lib/python3.7/dist-packages (from spacy>=2.2.2->en_core_web_sm==2.2.5) (2.23.0)\n",
            "Requirement already satisfied: blis<0.5.0,>=0.4.0 in /usr/local/lib/python3.7/dist-packages (from spacy>=2.2.2->en_core_web_sm==2.2.5) (0.4.1)\n",
            "Requirement already satisfied: setuptools in /usr/local/lib/python3.7/dist-packages (from spacy>=2.2.2->en_core_web_sm==2.2.5) (57.4.0)\n",
            "Requirement already satisfied: wasabi<1.1.0,>=0.4.0 in /usr/local/lib/python3.7/dist-packages (from spacy>=2.2.2->en_core_web_sm==2.2.5) (0.8.2)\n",
            "Requirement already satisfied: catalogue<1.1.0,>=0.0.7 in /usr/local/lib/python3.7/dist-packages (from spacy>=2.2.2->en_core_web_sm==2.2.5) (1.0.0)\n",
            "Requirement already satisfied: cymem<2.1.0,>=2.0.2 in /usr/local/lib/python3.7/dist-packages (from spacy>=2.2.2->en_core_web_sm==2.2.5) (2.0.5)\n",
            "Requirement already satisfied: numpy>=1.15.0 in /usr/local/lib/python3.7/dist-packages (from spacy>=2.2.2->en_core_web_sm==2.2.5) (1.19.5)\n",
            "Requirement already satisfied: murmurhash<1.1.0,>=0.28.0 in /usr/local/lib/python3.7/dist-packages (from spacy>=2.2.2->en_core_web_sm==2.2.5) (1.0.5)\n",
            "Requirement already satisfied: thinc==7.4.0 in /usr/local/lib/python3.7/dist-packages (from spacy>=2.2.2->en_core_web_sm==2.2.5) (7.4.0)\n",
            "Requirement already satisfied: plac<1.2.0,>=0.9.6 in /usr/local/lib/python3.7/dist-packages (from spacy>=2.2.2->en_core_web_sm==2.2.5) (1.1.3)\n",
            "Requirement already satisfied: tqdm<5.0.0,>=4.38.0 in /usr/local/lib/python3.7/dist-packages (from spacy>=2.2.2->en_core_web_sm==2.2.5) (4.62.3)\n",
            "Requirement already satisfied: preshed<3.1.0,>=3.0.2 in /usr/local/lib/python3.7/dist-packages (from spacy>=2.2.2->en_core_web_sm==2.2.5) (3.0.5)\n",
            "Requirement already satisfied: srsly<1.1.0,>=1.0.2 in /usr/local/lib/python3.7/dist-packages (from spacy>=2.2.2->en_core_web_sm==2.2.5) (1.0.5)\n",
            "Requirement already satisfied: importlib-metadata>=0.20 in /usr/local/lib/python3.7/dist-packages (from catalogue<1.1.0,>=0.0.7->spacy>=2.2.2->en_core_web_sm==2.2.5) (4.8.1)\n",
            "Requirement already satisfied: typing-extensions>=3.6.4 in /usr/local/lib/python3.7/dist-packages (from importlib-metadata>=0.20->catalogue<1.1.0,>=0.0.7->spacy>=2.2.2->en_core_web_sm==2.2.5) (3.7.4.3)\n",
            "Requirement already satisfied: zipp>=0.5 in /usr/local/lib/python3.7/dist-packages (from importlib-metadata>=0.20->catalogue<1.1.0,>=0.0.7->spacy>=2.2.2->en_core_web_sm==2.2.5) (3.6.0)\n",
            "Requirement already satisfied: urllib3!=1.25.0,!=1.25.1,<1.26,>=1.21.1 in /usr/local/lib/python3.7/dist-packages (from requests<3.0.0,>=2.13.0->spacy>=2.2.2->en_core_web_sm==2.2.5) (1.24.3)\n",
            "Requirement already satisfied: idna<3,>=2.5 in /usr/local/lib/python3.7/dist-packages (from requests<3.0.0,>=2.13.0->spacy>=2.2.2->en_core_web_sm==2.2.5) (2.10)\n",
            "Requirement already satisfied: certifi>=2017.4.17 in /usr/local/lib/python3.7/dist-packages (from requests<3.0.0,>=2.13.0->spacy>=2.2.2->en_core_web_sm==2.2.5) (2021.5.30)\n",
            "Requirement already satisfied: chardet<4,>=3.0.2 in /usr/local/lib/python3.7/dist-packages (from requests<3.0.0,>=2.13.0->spacy>=2.2.2->en_core_web_sm==2.2.5) (3.0.4)\n",
            "\u001b[38;5;2m✔ Download and installation successful\u001b[0m\n",
            "You can now load the model via spacy.load('en_core_web_sm')\n",
            "\u001b[38;5;2m✔ Linking successful\u001b[0m\n",
            "/usr/local/lib/python3.7/dist-packages/en_core_web_sm -->\n",
            "/usr/local/lib/python3.7/dist-packages/spacy/data/en\n",
            "You can now load the model via spacy.load('en')\n",
            "Collecting xx_ent_wiki_sm==2.2.0\n",
            "  Downloading https://github.com/explosion/spacy-models/releases/download/xx_ent_wiki_sm-2.2.0/xx_ent_wiki_sm-2.2.0.tar.gz (3.7 MB)\n",
            "\u001b[K     |████████████████████████████████| 3.7 MB 5.5 MB/s \n",
            "\u001b[?25hRequirement already satisfied: spacy>=2.2.0 in /usr/local/lib/python3.7/dist-packages (from xx_ent_wiki_sm==2.2.0) (2.2.4)\n",
            "Requirement already satisfied: requests<3.0.0,>=2.13.0 in /usr/local/lib/python3.7/dist-packages (from spacy>=2.2.0->xx_ent_wiki_sm==2.2.0) (2.23.0)\n",
            "Requirement already satisfied: blis<0.5.0,>=0.4.0 in /usr/local/lib/python3.7/dist-packages (from spacy>=2.2.0->xx_ent_wiki_sm==2.2.0) (0.4.1)\n",
            "Requirement already satisfied: numpy>=1.15.0 in /usr/local/lib/python3.7/dist-packages (from spacy>=2.2.0->xx_ent_wiki_sm==2.2.0) (1.19.5)\n",
            "Requirement already satisfied: plac<1.2.0,>=0.9.6 in /usr/local/lib/python3.7/dist-packages (from spacy>=2.2.0->xx_ent_wiki_sm==2.2.0) (1.1.3)\n",
            "Requirement already satisfied: catalogue<1.1.0,>=0.0.7 in /usr/local/lib/python3.7/dist-packages (from spacy>=2.2.0->xx_ent_wiki_sm==2.2.0) (1.0.0)\n",
            "Requirement already satisfied: murmurhash<1.1.0,>=0.28.0 in /usr/local/lib/python3.7/dist-packages (from spacy>=2.2.0->xx_ent_wiki_sm==2.2.0) (1.0.5)\n",
            "Requirement already satisfied: cymem<2.1.0,>=2.0.2 in /usr/local/lib/python3.7/dist-packages (from spacy>=2.2.0->xx_ent_wiki_sm==2.2.0) (2.0.5)\n",
            "Requirement already satisfied: preshed<3.1.0,>=3.0.2 in /usr/local/lib/python3.7/dist-packages (from spacy>=2.2.0->xx_ent_wiki_sm==2.2.0) (3.0.5)\n",
            "Requirement already satisfied: wasabi<1.1.0,>=0.4.0 in /usr/local/lib/python3.7/dist-packages (from spacy>=2.2.0->xx_ent_wiki_sm==2.2.0) (0.8.2)\n",
            "Requirement already satisfied: thinc==7.4.0 in /usr/local/lib/python3.7/dist-packages (from spacy>=2.2.0->xx_ent_wiki_sm==2.2.0) (7.4.0)\n",
            "Requirement already satisfied: srsly<1.1.0,>=1.0.2 in /usr/local/lib/python3.7/dist-packages (from spacy>=2.2.0->xx_ent_wiki_sm==2.2.0) (1.0.5)\n",
            "Requirement already satisfied: setuptools in /usr/local/lib/python3.7/dist-packages (from spacy>=2.2.0->xx_ent_wiki_sm==2.2.0) (57.4.0)\n",
            "Requirement already satisfied: tqdm<5.0.0,>=4.38.0 in /usr/local/lib/python3.7/dist-packages (from spacy>=2.2.0->xx_ent_wiki_sm==2.2.0) (4.62.3)\n",
            "Requirement already satisfied: importlib-metadata>=0.20 in /usr/local/lib/python3.7/dist-packages (from catalogue<1.1.0,>=0.0.7->spacy>=2.2.0->xx_ent_wiki_sm==2.2.0) (4.8.1)\n",
            "Requirement already satisfied: zipp>=0.5 in /usr/local/lib/python3.7/dist-packages (from importlib-metadata>=0.20->catalogue<1.1.0,>=0.0.7->spacy>=2.2.0->xx_ent_wiki_sm==2.2.0) (3.6.0)\n",
            "Requirement already satisfied: typing-extensions>=3.6.4 in /usr/local/lib/python3.7/dist-packages (from importlib-metadata>=0.20->catalogue<1.1.0,>=0.0.7->spacy>=2.2.0->xx_ent_wiki_sm==2.2.0) (3.7.4.3)\n",
            "Requirement already satisfied: urllib3!=1.25.0,!=1.25.1,<1.26,>=1.21.1 in /usr/local/lib/python3.7/dist-packages (from requests<3.0.0,>=2.13.0->spacy>=2.2.0->xx_ent_wiki_sm==2.2.0) (1.24.3)\n",
            "Requirement already satisfied: chardet<4,>=3.0.2 in /usr/local/lib/python3.7/dist-packages (from requests<3.0.0,>=2.13.0->spacy>=2.2.0->xx_ent_wiki_sm==2.2.0) (3.0.4)\n",
            "Requirement already satisfied: certifi>=2017.4.17 in /usr/local/lib/python3.7/dist-packages (from requests<3.0.0,>=2.13.0->spacy>=2.2.0->xx_ent_wiki_sm==2.2.0) (2021.5.30)\n",
            "Requirement already satisfied: idna<3,>=2.5 in /usr/local/lib/python3.7/dist-packages (from requests<3.0.0,>=2.13.0->spacy>=2.2.0->xx_ent_wiki_sm==2.2.0) (2.10)\n",
            "\u001b[38;5;2m✔ Download and installation successful\u001b[0m\n",
            "You can now load the model via spacy.load('xx_ent_wiki_sm')\n",
            "\u001b[38;5;2m✔ Linking successful\u001b[0m\n",
            "/usr/local/lib/python3.7/dist-packages/xx_ent_wiki_sm -->\n",
            "/usr/local/lib/python3.7/dist-packages/spacy/data/xx\n",
            "You can now load the model via spacy.load('xx')\n",
            "Collecting en_core_web_sm==2.2.5\n",
            "  Downloading https://github.com/explosion/spacy-models/releases/download/en_core_web_sm-2.2.5/en_core_web_sm-2.2.5.tar.gz (12.0 MB)\n",
            "\u001b[K     |████████████████████████████████| 12.0 MB 5.2 MB/s \n",
            "\u001b[?25hRequirement already satisfied: spacy>=2.2.2 in /usr/local/lib/python3.7/dist-packages (from en_core_web_sm==2.2.5) (2.2.4)\n",
            "Requirement already satisfied: thinc==7.4.0 in /usr/local/lib/python3.7/dist-packages (from spacy>=2.2.2->en_core_web_sm==2.2.5) (7.4.0)\n",
            "Requirement already satisfied: setuptools in /usr/local/lib/python3.7/dist-packages (from spacy>=2.2.2->en_core_web_sm==2.2.5) (57.4.0)\n",
            "Requirement already satisfied: plac<1.2.0,>=0.9.6 in /usr/local/lib/python3.7/dist-packages (from spacy>=2.2.2->en_core_web_sm==2.2.5) (1.1.3)\n",
            "Requirement already satisfied: blis<0.5.0,>=0.4.0 in /usr/local/lib/python3.7/dist-packages (from spacy>=2.2.2->en_core_web_sm==2.2.5) (0.4.1)\n",
            "Requirement already satisfied: wasabi<1.1.0,>=0.4.0 in /usr/local/lib/python3.7/dist-packages (from spacy>=2.2.2->en_core_web_sm==2.2.5) (0.8.2)\n",
            "Requirement already satisfied: preshed<3.1.0,>=3.0.2 in /usr/local/lib/python3.7/dist-packages (from spacy>=2.2.2->en_core_web_sm==2.2.5) (3.0.5)\n",
            "Requirement already satisfied: catalogue<1.1.0,>=0.0.7 in /usr/local/lib/python3.7/dist-packages (from spacy>=2.2.2->en_core_web_sm==2.2.5) (1.0.0)\n",
            "Requirement already satisfied: numpy>=1.15.0 in /usr/local/lib/python3.7/dist-packages (from spacy>=2.2.2->en_core_web_sm==2.2.5) (1.19.5)\n",
            "Requirement already satisfied: tqdm<5.0.0,>=4.38.0 in /usr/local/lib/python3.7/dist-packages (from spacy>=2.2.2->en_core_web_sm==2.2.5) (4.62.3)\n",
            "Requirement already satisfied: cymem<2.1.0,>=2.0.2 in /usr/local/lib/python3.7/dist-packages (from spacy>=2.2.2->en_core_web_sm==2.2.5) (2.0.5)\n",
            "Requirement already satisfied: requests<3.0.0,>=2.13.0 in /usr/local/lib/python3.7/dist-packages (from spacy>=2.2.2->en_core_web_sm==2.2.5) (2.23.0)\n",
            "Requirement already satisfied: murmurhash<1.1.0,>=0.28.0 in /usr/local/lib/python3.7/dist-packages (from spacy>=2.2.2->en_core_web_sm==2.2.5) (1.0.5)\n",
            "Requirement already satisfied: srsly<1.1.0,>=1.0.2 in /usr/local/lib/python3.7/dist-packages (from spacy>=2.2.2->en_core_web_sm==2.2.5) (1.0.5)\n",
            "Requirement already satisfied: importlib-metadata>=0.20 in /usr/local/lib/python3.7/dist-packages (from catalogue<1.1.0,>=0.0.7->spacy>=2.2.2->en_core_web_sm==2.2.5) (4.8.1)\n",
            "Requirement already satisfied: typing-extensions>=3.6.4 in /usr/local/lib/python3.7/dist-packages (from importlib-metadata>=0.20->catalogue<1.1.0,>=0.0.7->spacy>=2.2.2->en_core_web_sm==2.2.5) (3.7.4.3)\n",
            "Requirement already satisfied: zipp>=0.5 in /usr/local/lib/python3.7/dist-packages (from importlib-metadata>=0.20->catalogue<1.1.0,>=0.0.7->spacy>=2.2.2->en_core_web_sm==2.2.5) (3.6.0)\n",
            "Requirement already satisfied: idna<3,>=2.5 in /usr/local/lib/python3.7/dist-packages (from requests<3.0.0,>=2.13.0->spacy>=2.2.2->en_core_web_sm==2.2.5) (2.10)\n",
            "Requirement already satisfied: certifi>=2017.4.17 in /usr/local/lib/python3.7/dist-packages (from requests<3.0.0,>=2.13.0->spacy>=2.2.2->en_core_web_sm==2.2.5) (2021.5.30)\n",
            "Requirement already satisfied: urllib3!=1.25.0,!=1.25.1,<1.26,>=1.21.1 in /usr/local/lib/python3.7/dist-packages (from requests<3.0.0,>=2.13.0->spacy>=2.2.2->en_core_web_sm==2.2.5) (1.24.3)\n",
            "Requirement already satisfied: chardet<4,>=3.0.2 in /usr/local/lib/python3.7/dist-packages (from requests<3.0.0,>=2.13.0->spacy>=2.2.2->en_core_web_sm==2.2.5) (3.0.4)\n",
            "\u001b[38;5;2m✔ Download and installation successful\u001b[0m\n",
            "You can now load the model via spacy.load('en_core_web_sm')\n",
            "[nltk_data] Downloading collection 'popular'\n",
            "[nltk_data]    | \n",
            "[nltk_data]    | Downloading package cmudict to /root/nltk_data...\n",
            "[nltk_data]    |   Package cmudict is already up-to-date!\n",
            "[nltk_data]    | Downloading package gazetteers to /root/nltk_data...\n",
            "[nltk_data]    |   Package gazetteers is already up-to-date!\n",
            "[nltk_data]    | Downloading package genesis to /root/nltk_data...\n",
            "[nltk_data]    |   Package genesis is already up-to-date!\n",
            "[nltk_data]    | Downloading package gutenberg to /root/nltk_data...\n",
            "[nltk_data]    |   Package gutenberg is already up-to-date!\n",
            "[nltk_data]    | Downloading package inaugural to /root/nltk_data...\n",
            "[nltk_data]    |   Package inaugural is already up-to-date!\n",
            "[nltk_data]    | Downloading package movie_reviews to\n",
            "[nltk_data]    |     /root/nltk_data...\n",
            "[nltk_data]    |   Package movie_reviews is already up-to-date!\n",
            "[nltk_data]    | Downloading package names to /root/nltk_data...\n",
            "[nltk_data]    |   Package names is already up-to-date!\n",
            "[nltk_data]    | Downloading package shakespeare to /root/nltk_data...\n",
            "[nltk_data]    |   Package shakespeare is already up-to-date!\n",
            "[nltk_data]    | Downloading package stopwords to /root/nltk_data...\n",
            "[nltk_data]    |   Package stopwords is already up-to-date!\n",
            "[nltk_data]    | Downloading package treebank to /root/nltk_data...\n",
            "[nltk_data]    |   Package treebank is already up-to-date!\n",
            "[nltk_data]    | Downloading package twitter_samples to\n",
            "[nltk_data]    |     /root/nltk_data...\n",
            "[nltk_data]    |   Package twitter_samples is already up-to-date!\n",
            "[nltk_data]    | Downloading package omw to /root/nltk_data...\n",
            "[nltk_data]    |   Package omw is already up-to-date!\n",
            "[nltk_data]    | Downloading package wordnet to /root/nltk_data...\n",
            "[nltk_data]    |   Package wordnet is already up-to-date!\n",
            "[nltk_data]    | Downloading package wordnet31 to /root/nltk_data...\n",
            "[nltk_data]    |   Package wordnet31 is already up-to-date!\n",
            "[nltk_data]    | Downloading package wordnet_ic to /root/nltk_data...\n",
            "[nltk_data]    |   Package wordnet_ic is already up-to-date!\n",
            "[nltk_data]    | Downloading package words to /root/nltk_data...\n",
            "[nltk_data]    |   Package words is already up-to-date!\n",
            "[nltk_data]    | Downloading package maxent_ne_chunker to\n",
            "[nltk_data]    |     /root/nltk_data...\n",
            "[nltk_data]    |   Package maxent_ne_chunker is already up-to-date!\n",
            "[nltk_data]    | Downloading package punkt to /root/nltk_data...\n",
            "[nltk_data]    |   Package punkt is already up-to-date!\n",
            "[nltk_data]    | Downloading package snowball_data to\n",
            "[nltk_data]    |     /root/nltk_data...\n",
            "[nltk_data]    |   Package snowball_data is already up-to-date!\n",
            "[nltk_data]    | Downloading package averaged_perceptron_tagger to\n",
            "[nltk_data]    |     /root/nltk_data...\n",
            "[nltk_data]    |   Package averaged_perceptron_tagger is already up-\n",
            "[nltk_data]    |       to-date!\n",
            "[nltk_data]    | \n",
            "[nltk_data]  Done downloading collection popular\n"
          ]
        },
        {
          "output_type": "execute_result",
          "data": {
            "text/plain": [
              "True"
            ]
          },
          "metadata": {},
          "execution_count": 2
        }
      ]
    },
    {
      "cell_type": "code",
      "metadata": {
        "id": "zz4W3dt-p-m5"
      },
      "source": [
        "import taudataNlpTm as tau, seaborn as sns; sns.set()\n",
        "import warnings; warnings.simplefilter('ignore')\n",
        "import tweepy, json, nltk, urllib.request, requests\n",
        "from urllib.request import Request, urlopen\n",
        "from twython import TwythonStreamer\n",
        "from bs4 import BeautifulSoup as bs\n",
        "import pandas as pd\n",
        "import matplotlib.pyplot as plt\n",
        "import seaborn as sns\n",
        "import plotly.express as px"
      ],
      "execution_count": null,
      "outputs": []
    },
    {
      "cell_type": "code",
      "metadata": {
        "id": "iyyANT-eq6pA"
      },
      "source": [
        "Ck = 'zqqP628DAbLmv4GI2Iz87b0Nj'\n",
        "Cs = 'v7NUMA1q3RVqjgiGDLuTfGe3UNieRr6rDYnAi2upLA62L4PqWS'\n",
        "At = '1307322137732984833-Rrut5anVBnlc4tTLw6j9Dy6dzVJ9rC'\n",
        "As = 'hugbPXcKoG2E72KOHwglufKBFYMfVTH4STN5qmqVD8Wcy'"
      ],
      "execution_count": null,
      "outputs": []
    },
    {
      "cell_type": "code",
      "metadata": {
        "id": "Y41-nAad9sit"
      },
      "source": [
        "def twitter_connect(Ck, Cs, At, As, verbose = 0):\n",
        "    try:\n",
        "        auth = tweepy.OAuthHandler(Ck, Cs)\n",
        "        auth.set_access_token(At, As)\n",
        "        twitter = tweepy.API(auth, wait_on_rate_limit=True)\n",
        "        if verbose != 0:\n",
        "            user = twitter.verify_credentials()\n",
        "            print('Welcome \"%s\" you are now connected to twitter server' %user.name)\n",
        "        return twitter\n",
        "    except:\n",
        "        print(\"Connection failed, please check your API keys or connection\")\n",
        "        return None"
      ],
      "execution_count": null,
      "outputs": []
    },
    {
      "cell_type": "code",
      "metadata": {
        "id": "274D-xse_cPN",
        "colab": {
          "base_uri": "https://localhost:8080/"
        },
        "outputId": "2ac64aa2-deca-47ca-a88b-c88ba7602ee8"
      },
      "source": [
        "twitter = twitter_connect(Ck, Cs, At, As, verbose = 1)"
      ],
      "execution_count": null,
      "outputs": [
        {
          "output_type": "stream",
          "name": "stdout",
          "text": [
            "Welcome \"bilsss\" you are now connected to twitter server\n"
          ]
        }
      ]
    },
    {
      "cell_type": "code",
      "metadata": {
        "id": "0dWf5ZtfYymj"
      },
      "source": [
        "#topic = 'meta facebook'\n",
        "#N = 100 # jumlah tweet yang ingin diambil\n",
        "#bahasa = 'id'\n",
        "#T = twitter.search(q=topic, lang=bahasa, count=N, tweet_mode = 'extended')\n",
        "#tweets = [t._json for t in T]"
      ],
      "execution_count": null,
      "outputs": []
    },
    {
      "cell_type": "code",
      "metadata": {
        "id": "2oEUANKf_775"
      },
      "source": [
        "#def getdata(topic, T):\n",
        "#  while True:\n",
        "#    try:\n",
        "#      last_id = T[-1]._json['id'] - 1\n",
        "#      T = twitter.search(q=topic, lang=bahasa, count=N, tweet_mode = 'extended', max_id=last_id)\n",
        "#      tweets.extend([t._json for t in T])\n",
        "#      print(' Berhasil mendapatkan {} tweets'.format(len(tweets)))\n",
        "#    except IndexError:\n",
        "#     return T"
      ],
      "execution_count": null,
      "outputs": []
    },
    {
      "cell_type": "code",
      "metadata": {
        "id": "MZKnMm3eZlkB"
      },
      "source": [
        "#getdata(topic, T)"
      ],
      "execution_count": null,
      "outputs": []
    },
    {
      "cell_type": "code",
      "metadata": {
        "id": "h_JNfyQdyp8w"
      },
      "source": [
        "#topic2='#meta'"
      ],
      "execution_count": null,
      "outputs": []
    },
    {
      "cell_type": "code",
      "metadata": {
        "id": "8Gfsoe8Cy6zL"
      },
      "source": [
        "#getdata(topic2, T)"
      ],
      "execution_count": null,
      "outputs": []
    },
    {
      "cell_type": "code",
      "metadata": {
        "id": "xf_k9GVq2QFL"
      },
      "source": [
        "#topic3 = \"meta\""
      ],
      "execution_count": null,
      "outputs": []
    },
    {
      "cell_type": "code",
      "metadata": {
        "id": "TP9GommS2eNo"
      },
      "source": [
        "#getdata(topic3, T)"
      ],
      "execution_count": null,
      "outputs": []
    },
    {
      "cell_type": "code",
      "metadata": {
        "id": "sdd4l5jdg3Vi"
      },
      "source": [
        "#topic4 = \"metaverse\""
      ],
      "execution_count": null,
      "outputs": []
    },
    {
      "cell_type": "code",
      "metadata": {
        "id": "nvjQhQ0bg8un"
      },
      "source": [
        "#getdata(topic4, T)"
      ],
      "execution_count": null,
      "outputs": []
    },
    {
      "cell_type": "code",
      "metadata": {
        "id": "mAMJEL_2iPkq"
      },
      "source": [
        "#len(tweets)"
      ],
      "execution_count": null,
      "outputs": []
    },
    {
      "cell_type": "code",
      "metadata": {
        "id": "0dl0iWQkMUDZ"
      },
      "source": [
        "#def saveTweets(tweets, file='Tweets.json', orients='record'): #in Json Format\n",
        "#    with open(file, 'w') as f:\n",
        "#        for t in tweets:\n",
        "#            try:\n",
        "#                f.write(json.dumps(t)+'\\n')\n",
        "#            except:\n",
        "#                pass"
      ],
      "execution_count": null,
      "outputs": []
    },
    {
      "cell_type": "code",
      "metadata": {
        "id": "GyIWJDH-AFk9"
      },
      "source": [
        "#fileName = 'data/Tweets_Meta_20211030.json'\n",
        "#saveTweets(tweets, file=fileName)\n",
        "#print('Saved to '+fileName)"
      ],
      "execution_count": null,
      "outputs": []
    },
    {
      "cell_type": "markdown",
      "metadata": {
        "id": "2avTp9KtIj3l"
      },
      "source": [
        "## EDA"
      ]
    },
    {
      "cell_type": "code",
      "metadata": {
        "id": "nylraA7PRVu4",
        "colab": {
          "base_uri": "https://localhost:8080/"
        },
        "outputId": "4d5ecd50-de9f-449e-9ca3-d114d9d94dba"
      },
      "source": [
        "!mkdir dataset"
      ],
      "execution_count": null,
      "outputs": [
        {
          "output_type": "stream",
          "name": "stdout",
          "text": [
            "mkdir: cannot create directory ‘dataset’: File exists\n"
          ]
        }
      ]
    },
    {
      "cell_type": "code",
      "metadata": {
        "colab": {
          "base_uri": "https://localhost:8080/"
        },
        "id": "1chm5XZJ0lZ8",
        "outputId": "dc92f663-da13-4de3-d74a-40bf259f1f21"
      },
      "source": [
        "!wget -P dataset/ https://raw.githubusercontent.com/malinaafemi/KapitaSelekta/main/Tweets_Meta_20211030.json"
      ],
      "execution_count": null,
      "outputs": [
        {
          "output_type": "stream",
          "name": "stdout",
          "text": [
            "--2021-11-01 14:58:42--  https://raw.githubusercontent.com/malinaafemi/KapitaSelekta/main/Tweets_Meta_20211030.json\n",
            "Resolving raw.githubusercontent.com (raw.githubusercontent.com)... 185.199.111.133, 185.199.110.133, 185.199.109.133, ...\n",
            "Connecting to raw.githubusercontent.com (raw.githubusercontent.com)|185.199.111.133|:443... connected.\n",
            "HTTP request sent, awaiting response... 200 OK\n",
            "Length: 9222718 (8.8M) [text/plain]\n",
            "Saving to: ‘dataset/Tweets_Meta_20211030.json.5’\n",
            "\n",
            "Tweets_Meta_2021103 100%[===================>]   8.79M  --.-KB/s    in 0.1s    \n",
            "\n",
            "2021-11-01 14:58:42 (74.7 MB/s) - ‘dataset/Tweets_Meta_20211030.json.5’ saved [9222718/9222718]\n",
            "\n"
          ]
        }
      ]
    },
    {
      "cell_type": "code",
      "metadata": {
        "id": "U5x7ZJfvBG7M"
      },
      "source": [
        "data = pd.read_json('/content/dataset/Tweets_Meta_20211030.json')"
      ],
      "execution_count": null,
      "outputs": []
    },
    {
      "cell_type": "code",
      "metadata": {
        "id": "4lr_GIehBqwD",
        "colab": {
          "base_uri": "https://localhost:8080/",
          "height": 408
        },
        "outputId": "d7427517-7d2e-4173-f3a7-157a22d00939"
      },
      "source": [
        "data"
      ],
      "execution_count": null,
      "outputs": [
        {
          "output_type": "execute_result",
          "data": {
            "text/html": [
              "<div>\n",
              "<style scoped>\n",
              "    .dataframe tbody tr th:only-of-type {\n",
              "        vertical-align: middle;\n",
              "    }\n",
              "\n",
              "    .dataframe tbody tr th {\n",
              "        vertical-align: top;\n",
              "    }\n",
              "\n",
              "    .dataframe thead th {\n",
              "        text-align: right;\n",
              "    }\n",
              "</style>\n",
              "<table border=\"1\" class=\"dataframe\">\n",
              "  <thead>\n",
              "    <tr style=\"text-align: right;\">\n",
              "      <th></th>\n",
              "      <th>created_at</th>\n",
              "      <th>id</th>\n",
              "      <th>tweet</th>\n",
              "      <th>in_reply_to_screen_name</th>\n",
              "      <th>retweet_count</th>\n",
              "      <th>favorite_count</th>\n",
              "    </tr>\n",
              "  </thead>\n",
              "  <tbody>\n",
              "    <tr>\n",
              "      <th>0</th>\n",
              "      <td>2021-10-30 10:39:43</td>\n",
              "      <td>1454397598689742849</td>\n",
              "      <td>RT @kamarulafiquez: Ramai salah anggap sebenar...</td>\n",
              "      <td>None</td>\n",
              "      <td>986</td>\n",
              "      <td>0</td>\n",
              "    </tr>\n",
              "    <tr>\n",
              "      <th>1</th>\n",
              "      <td>2021-10-30 10:39:31</td>\n",
              "      <td>1454397548525867014</td>\n",
              "      <td>RT @kamarulafiquez: Ramai salah anggap sebenar...</td>\n",
              "      <td>None</td>\n",
              "      <td>986</td>\n",
              "      <td>0</td>\n",
              "    </tr>\n",
              "    <tr>\n",
              "      <th>2</th>\n",
              "      <td>2021-10-30 10:37:43</td>\n",
              "      <td>1454397093028589569</td>\n",
              "      <td>RT @Arrof11: BREAKING NEWS \\n\\nFacebook ganti ...</td>\n",
              "      <td>None</td>\n",
              "      <td>2</td>\n",
              "      <td>0</td>\n",
              "    </tr>\n",
              "    <tr>\n",
              "      <th>3</th>\n",
              "      <td>2021-10-30 10:37:31</td>\n",
              "      <td>1454397044760580102</td>\n",
              "      <td>RT @kamarulafiquez: Ramai salah anggap sebenar...</td>\n",
              "      <td>None</td>\n",
              "      <td>986</td>\n",
              "      <td>0</td>\n",
              "    </tr>\n",
              "    <tr>\n",
              "      <th>4</th>\n",
              "      <td>2021-10-30 10:36:56</td>\n",
              "      <td>1454396898610069509</td>\n",
              "      <td>RT @kamarulafiquez: Ramai salah anggap sebenar...</td>\n",
              "      <td>None</td>\n",
              "      <td>986</td>\n",
              "      <td>0</td>\n",
              "    </tr>\n",
              "    <tr>\n",
              "      <th>...</th>\n",
              "      <td>...</td>\n",
              "      <td>...</td>\n",
              "      <td>...</td>\n",
              "      <td>...</td>\n",
              "      <td>...</td>\n",
              "      <td>...</td>\n",
              "    </tr>\n",
              "    <tr>\n",
              "      <th>36172</th>\n",
              "      <td>2021-10-21 11:35:09</td>\n",
              "      <td>1451150058305441802</td>\n",
              "      <td>@gemhost @Digi_metaverse hadihi jahanammuladzi...</td>\n",
              "      <td>gemhost</td>\n",
              "      <td>0</td>\n",
              "      <td>0</td>\n",
              "    </tr>\n",
              "    <tr>\n",
              "      <th>36173</th>\n",
              "      <td>2021-10-21 11:29:56</td>\n",
              "      <td>1451148744825577491</td>\n",
              "      <td>@gemhost @Digi_metaverse Bismillah</td>\n",
              "      <td>gemhost</td>\n",
              "      <td>0</td>\n",
              "      <td>0</td>\n",
              "    </tr>\n",
              "    <tr>\n",
              "      <th>36174</th>\n",
              "      <td>2021-10-21 11:28:40</td>\n",
              "      <td>1451148426654015500</td>\n",
              "      <td>Belom juga kelar ngulik metaverse ini udah ada...</td>\n",
              "      <td>None</td>\n",
              "      <td>0</td>\n",
              "      <td>1</td>\n",
              "    </tr>\n",
              "    <tr>\n",
              "      <th>36175</th>\n",
              "      <td>2021-10-21 11:11:45</td>\n",
              "      <td>1451144167233576967</td>\n",
              "      <td>RT @HabariTech: 📡METAVERSE (Ulimwengu mpya wa ...</td>\n",
              "      <td>None</td>\n",
              "      <td>39</td>\n",
              "      <td>0</td>\n",
              "    </tr>\n",
              "    <tr>\n",
              "      <th>36176</th>\n",
              "      <td>2021-10-21 11:09:40</td>\n",
              "      <td>1451143645319639043</td>\n",
              "      <td>Kampuni ya mtandao wa kijamii wa Facebook inap...</td>\n",
              "      <td>None</td>\n",
              "      <td>0</td>\n",
              "      <td>9</td>\n",
              "    </tr>\n",
              "  </tbody>\n",
              "</table>\n",
              "<p>36177 rows × 6 columns</p>\n",
              "</div>"
            ],
            "text/plain": [
              "               created_at                   id  ... retweet_count favorite_count\n",
              "0     2021-10-30 10:39:43  1454397598689742849  ...           986              0\n",
              "1     2021-10-30 10:39:31  1454397548525867014  ...           986              0\n",
              "2     2021-10-30 10:37:43  1454397093028589569  ...             2              0\n",
              "3     2021-10-30 10:37:31  1454397044760580102  ...           986              0\n",
              "4     2021-10-30 10:36:56  1454396898610069509  ...           986              0\n",
              "...                   ...                  ...  ...           ...            ...\n",
              "36172 2021-10-21 11:35:09  1451150058305441802  ...             0              0\n",
              "36173 2021-10-21 11:29:56  1451148744825577491  ...             0              0\n",
              "36174 2021-10-21 11:28:40  1451148426654015500  ...             0              1\n",
              "36175 2021-10-21 11:11:45  1451144167233576967  ...            39              0\n",
              "36176 2021-10-21 11:09:40  1451143645319639043  ...             0              9\n",
              "\n",
              "[36177 rows x 6 columns]"
            ]
          },
          "metadata": {},
          "execution_count": 22
        }
      ]
    },
    {
      "cell_type": "code",
      "metadata": {
        "id": "OuB3ZqdgDP3c",
        "colab": {
          "base_uri": "https://localhost:8080/"
        },
        "outputId": "5b0d6c18-d434-4d53-9ff9-8cf32276a4aa"
      },
      "source": [
        "data.keys()"
      ],
      "execution_count": null,
      "outputs": [
        {
          "output_type": "execute_result",
          "data": {
            "text/plain": [
              "Index(['created_at', 'id', 'tweet', 'in_reply_to_screen_name', 'retweet_count',\n",
              "       'favorite_count'],\n",
              "      dtype='object')"
            ]
          },
          "metadata": {},
          "execution_count": 23
        }
      ]
    },
    {
      "cell_type": "code",
      "metadata": {
        "id": "O9R6XmJCD78j",
        "colab": {
          "base_uri": "https://localhost:8080/",
          "height": 290
        },
        "outputId": "88257e4c-dbbb-4798-eaf7-8ea2049493c3"
      },
      "source": [
        "data.describe()"
      ],
      "execution_count": null,
      "outputs": [
        {
          "output_type": "execute_result",
          "data": {
            "text/html": [
              "<div>\n",
              "<style scoped>\n",
              "    .dataframe tbody tr th:only-of-type {\n",
              "        vertical-align: middle;\n",
              "    }\n",
              "\n",
              "    .dataframe tbody tr th {\n",
              "        vertical-align: top;\n",
              "    }\n",
              "\n",
              "    .dataframe thead th {\n",
              "        text-align: right;\n",
              "    }\n",
              "</style>\n",
              "<table border=\"1\" class=\"dataframe\">\n",
              "  <thead>\n",
              "    <tr style=\"text-align: right;\">\n",
              "      <th></th>\n",
              "      <th>id</th>\n",
              "      <th>retweet_count</th>\n",
              "      <th>favorite_count</th>\n",
              "    </tr>\n",
              "  </thead>\n",
              "  <tbody>\n",
              "    <tr>\n",
              "      <th>count</th>\n",
              "      <td>3.617700e+04</td>\n",
              "      <td>36177.000000</td>\n",
              "      <td>36177.000000</td>\n",
              "    </tr>\n",
              "    <tr>\n",
              "      <th>mean</th>\n",
              "      <td>1.453765e+18</td>\n",
              "      <td>182.582691</td>\n",
              "      <td>2.539238</td>\n",
              "    </tr>\n",
              "    <tr>\n",
              "      <th>std</th>\n",
              "      <td>6.483352e+14</td>\n",
              "      <td>487.244097</td>\n",
              "      <td>43.024783</td>\n",
              "    </tr>\n",
              "    <tr>\n",
              "      <th>min</th>\n",
              "      <td>1.451139e+18</td>\n",
              "      <td>0.000000</td>\n",
              "      <td>0.000000</td>\n",
              "    </tr>\n",
              "    <tr>\n",
              "      <th>25%</th>\n",
              "      <td>1.453861e+18</td>\n",
              "      <td>0.000000</td>\n",
              "      <td>0.000000</td>\n",
              "    </tr>\n",
              "    <tr>\n",
              "      <th>50%</th>\n",
              "      <td>1.453960e+18</td>\n",
              "      <td>2.000000</td>\n",
              "      <td>0.000000</td>\n",
              "    </tr>\n",
              "    <tr>\n",
              "      <th>75%</th>\n",
              "      <td>1.454060e+18</td>\n",
              "      <td>108.000000</td>\n",
              "      <td>0.000000</td>\n",
              "    </tr>\n",
              "    <tr>\n",
              "      <th>max</th>\n",
              "      <td>1.454398e+18</td>\n",
              "      <td>21636.000000</td>\n",
              "      <td>2571.000000</td>\n",
              "    </tr>\n",
              "  </tbody>\n",
              "</table>\n",
              "</div>"
            ],
            "text/plain": [
              "                 id  retweet_count  favorite_count\n",
              "count  3.617700e+04   36177.000000    36177.000000\n",
              "mean   1.453765e+18     182.582691        2.539238\n",
              "std    6.483352e+14     487.244097       43.024783\n",
              "min    1.451139e+18       0.000000        0.000000\n",
              "25%    1.453861e+18       0.000000        0.000000\n",
              "50%    1.453960e+18       2.000000        0.000000\n",
              "75%    1.454060e+18     108.000000        0.000000\n",
              "max    1.454398e+18   21636.000000     2571.000000"
            ]
          },
          "metadata": {},
          "execution_count": 24
        }
      ]
    },
    {
      "cell_type": "code",
      "metadata": {
        "id": "10OTYqzvEB0i",
        "colab": {
          "base_uri": "https://localhost:8080/"
        },
        "outputId": "7a82ffde-d06a-47cd-e5e7-7b19eee90393"
      },
      "source": [
        "print('Ukuran data: {}' .format(data.shape))"
      ],
      "execution_count": null,
      "outputs": [
        {
          "output_type": "stream",
          "name": "stdout",
          "text": [
            "Ukuran data: (36177, 6)\n"
          ]
        }
      ]
    },
    {
      "cell_type": "code",
      "metadata": {
        "colab": {
          "base_uri": "https://localhost:8080/"
        },
        "id": "QNkJ4F4kuxMF",
        "outputId": "ebce3f39-dfd9-4390-c228-7cd7bcbeb329"
      },
      "source": [
        "data.info()"
      ],
      "execution_count": null,
      "outputs": [
        {
          "output_type": "stream",
          "name": "stdout",
          "text": [
            "<class 'pandas.core.frame.DataFrame'>\n",
            "RangeIndex: 36177 entries, 0 to 36176\n",
            "Data columns (total 6 columns):\n",
            " #   Column                   Non-Null Count  Dtype         \n",
            "---  ------                   --------------  -----         \n",
            " 0   created_at               36177 non-null  datetime64[ns]\n",
            " 1   id                       36177 non-null  int64         \n",
            " 2   tweet                    36177 non-null  object        \n",
            " 3   in_reply_to_screen_name  7332 non-null   object        \n",
            " 4   retweet_count            36177 non-null  int64         \n",
            " 5   favorite_count           36177 non-null  int64         \n",
            "dtypes: datetime64[ns](1), int64(3), object(2)\n",
            "memory usage: 1.7+ MB\n"
          ]
        }
      ]
    },
    {
      "cell_type": "code",
      "metadata": {
        "id": "8-2lWnjiu6v2"
      },
      "source": [
        "data = data.rename(columns={\"full_text\": \"tweet\"})"
      ],
      "execution_count": null,
      "outputs": []
    },
    {
      "cell_type": "code",
      "metadata": {
        "colab": {
          "base_uri": "https://localhost:8080/"
        },
        "id": "cENX7maou9x2",
        "outputId": "e6a6d0af-0cd5-4fac-dcc5-24497bc56a91"
      },
      "source": [
        "data['tweet'].head()"
      ],
      "execution_count": null,
      "outputs": [
        {
          "output_type": "execute_result",
          "data": {
            "text/plain": [
              "0    RT @kamarulafiquez: Ramai salah anggap sebenar...\n",
              "1    RT @kamarulafiquez: Ramai salah anggap sebenar...\n",
              "2    RT @Arrof11: BREAKING NEWS \\n\\nFacebook ganti ...\n",
              "3    RT @kamarulafiquez: Ramai salah anggap sebenar...\n",
              "4    RT @kamarulafiquez: Ramai salah anggap sebenar...\n",
              "Name: tweet, dtype: object"
            ]
          },
          "metadata": {},
          "execution_count": 28
        }
      ]
    },
    {
      "cell_type": "code",
      "metadata": {
        "colab": {
          "base_uri": "https://localhost:8080/"
        },
        "id": "1lbpTkhq94j7",
        "outputId": "65918af9-17ca-4927-e19e-f67407a77b49"
      },
      "source": [
        "#Memeriksa Duplikasi pada Data\n",
        "print(data.shape)\n",
        "data.duplicated(subset=['tweet']).sum()"
      ],
      "execution_count": null,
      "outputs": [
        {
          "output_type": "stream",
          "name": "stdout",
          "text": [
            "(36177, 6)\n"
          ]
        },
        {
          "output_type": "execute_result",
          "data": {
            "text/plain": [
              "20798"
            ]
          },
          "metadata": {},
          "execution_count": 29
        }
      ]
    },
    {
      "cell_type": "code",
      "metadata": {
        "colab": {
          "base_uri": "https://localhost:8080/"
        },
        "id": "Ic7W42rB-Aij",
        "outputId": "d9daa286-09c4-4c52-9cb5-ccc3bd872298"
      },
      "source": [
        "#Menghilangkan Duplikasi pada Data\n",
        "df = data.drop_duplicates(subset=['tweet'])\n",
        "print(df.shape)"
      ],
      "execution_count": null,
      "outputs": [
        {
          "output_type": "stream",
          "name": "stdout",
          "text": [
            "(15379, 6)\n"
          ]
        }
      ]
    },
    {
      "cell_type": "code",
      "metadata": {
        "id": "XPDHI3sIAV0i"
      },
      "source": [
        "df.reset_index(drop=True, inplace=True)"
      ],
      "execution_count": null,
      "outputs": []
    },
    {
      "cell_type": "code",
      "metadata": {
        "colab": {
          "base_uri": "https://localhost:8080/",
          "height": 408
        },
        "id": "CjvV-3lgAorT",
        "outputId": "1056c8c1-d13a-4f1e-a097-a74aa6bf5677"
      },
      "source": [
        "df"
      ],
      "execution_count": null,
      "outputs": [
        {
          "output_type": "execute_result",
          "data": {
            "text/html": [
              "<div>\n",
              "<style scoped>\n",
              "    .dataframe tbody tr th:only-of-type {\n",
              "        vertical-align: middle;\n",
              "    }\n",
              "\n",
              "    .dataframe tbody tr th {\n",
              "        vertical-align: top;\n",
              "    }\n",
              "\n",
              "    .dataframe thead th {\n",
              "        text-align: right;\n",
              "    }\n",
              "</style>\n",
              "<table border=\"1\" class=\"dataframe\">\n",
              "  <thead>\n",
              "    <tr style=\"text-align: right;\">\n",
              "      <th></th>\n",
              "      <th>created_at</th>\n",
              "      <th>id</th>\n",
              "      <th>tweet</th>\n",
              "      <th>in_reply_to_screen_name</th>\n",
              "      <th>retweet_count</th>\n",
              "      <th>favorite_count</th>\n",
              "    </tr>\n",
              "  </thead>\n",
              "  <tbody>\n",
              "    <tr>\n",
              "      <th>0</th>\n",
              "      <td>2021-10-30 10:39:43</td>\n",
              "      <td>1454397598689742849</td>\n",
              "      <td>RT @kamarulafiquez: Ramai salah anggap sebenar...</td>\n",
              "      <td>None</td>\n",
              "      <td>986</td>\n",
              "      <td>0</td>\n",
              "    </tr>\n",
              "    <tr>\n",
              "      <th>1</th>\n",
              "      <td>2021-10-30 10:37:43</td>\n",
              "      <td>1454397093028589569</td>\n",
              "      <td>RT @Arrof11: BREAKING NEWS \\n\\nFacebook ganti ...</td>\n",
              "      <td>None</td>\n",
              "      <td>2</td>\n",
              "      <td>0</td>\n",
              "    </tr>\n",
              "    <tr>\n",
              "      <th>2</th>\n",
              "      <td>2021-10-30 10:33:28</td>\n",
              "      <td>1454396023627915265</td>\n",
              "      <td>RT @KompasTV: Arti Simbol Meta, Nama Baru dari...</td>\n",
              "      <td>None</td>\n",
              "      <td>4</td>\n",
              "      <td>0</td>\n",
              "    </tr>\n",
              "    <tr>\n",
              "      <th>3</th>\n",
              "      <td>2021-10-30 10:33:02</td>\n",
              "      <td>1454395915385507841</td>\n",
              "      <td>RT @TheGreatpimp: FROM FACEBOOK TO META.\\n\\nBa...</td>\n",
              "      <td>None</td>\n",
              "      <td>1044</td>\n",
              "      <td>0</td>\n",
              "    </tr>\n",
              "    <tr>\n",
              "      <th>4</th>\n",
              "      <td>2021-10-30 10:32:56</td>\n",
              "      <td>1454395891515740163</td>\n",
              "      <td>RT @azlanhuzeifa: So Facebook dalam proses ber...</td>\n",
              "      <td>None</td>\n",
              "      <td>6</td>\n",
              "      <td>0</td>\n",
              "    </tr>\n",
              "    <tr>\n",
              "      <th>...</th>\n",
              "      <td>...</td>\n",
              "      <td>...</td>\n",
              "      <td>...</td>\n",
              "      <td>...</td>\n",
              "      <td>...</td>\n",
              "      <td>...</td>\n",
              "    </tr>\n",
              "    <tr>\n",
              "      <th>15374</th>\n",
              "      <td>2021-10-21 12:00:46</td>\n",
              "      <td>1451156504552169473</td>\n",
              "      <td>Kalo metaverse is real keren banget asli🥺</td>\n",
              "      <td>None</td>\n",
              "      <td>0</td>\n",
              "      <td>0</td>\n",
              "    </tr>\n",
              "    <tr>\n",
              "      <th>15375</th>\n",
              "      <td>2021-10-21 11:35:09</td>\n",
              "      <td>1451150058305441802</td>\n",
              "      <td>@gemhost @Digi_metaverse hadihi jahanammuladzi...</td>\n",
              "      <td>gemhost</td>\n",
              "      <td>0</td>\n",
              "      <td>0</td>\n",
              "    </tr>\n",
              "    <tr>\n",
              "      <th>15376</th>\n",
              "      <td>2021-10-21 11:29:56</td>\n",
              "      <td>1451148744825577491</td>\n",
              "      <td>@gemhost @Digi_metaverse Bismillah</td>\n",
              "      <td>gemhost</td>\n",
              "      <td>0</td>\n",
              "      <td>0</td>\n",
              "    </tr>\n",
              "    <tr>\n",
              "      <th>15377</th>\n",
              "      <td>2021-10-21 11:28:40</td>\n",
              "      <td>1451148426654015500</td>\n",
              "      <td>Belom juga kelar ngulik metaverse ini udah ada...</td>\n",
              "      <td>None</td>\n",
              "      <td>0</td>\n",
              "      <td>1</td>\n",
              "    </tr>\n",
              "    <tr>\n",
              "      <th>15378</th>\n",
              "      <td>2021-10-21 11:09:40</td>\n",
              "      <td>1451143645319639043</td>\n",
              "      <td>Kampuni ya mtandao wa kijamii wa Facebook inap...</td>\n",
              "      <td>None</td>\n",
              "      <td>0</td>\n",
              "      <td>9</td>\n",
              "    </tr>\n",
              "  </tbody>\n",
              "</table>\n",
              "<p>15379 rows × 6 columns</p>\n",
              "</div>"
            ],
            "text/plain": [
              "               created_at                   id  ... retweet_count favorite_count\n",
              "0     2021-10-30 10:39:43  1454397598689742849  ...           986              0\n",
              "1     2021-10-30 10:37:43  1454397093028589569  ...             2              0\n",
              "2     2021-10-30 10:33:28  1454396023627915265  ...             4              0\n",
              "3     2021-10-30 10:33:02  1454395915385507841  ...          1044              0\n",
              "4     2021-10-30 10:32:56  1454395891515740163  ...             6              0\n",
              "...                   ...                  ...  ...           ...            ...\n",
              "15374 2021-10-21 12:00:46  1451156504552169473  ...             0              0\n",
              "15375 2021-10-21 11:35:09  1451150058305441802  ...             0              0\n",
              "15376 2021-10-21 11:29:56  1451148744825577491  ...             0              0\n",
              "15377 2021-10-21 11:28:40  1451148426654015500  ...             0              1\n",
              "15378 2021-10-21 11:09:40  1451143645319639043  ...             0              9\n",
              "\n",
              "[15379 rows x 6 columns]"
            ]
          },
          "metadata": {},
          "execution_count": 32
        }
      ]
    },
    {
      "cell_type": "code",
      "metadata": {
        "colab": {
          "base_uri": "https://localhost:8080/"
        },
        "id": "arP1ke1EA482",
        "outputId": "53667ace-664c-4b6d-b239-7402668c3ae5"
      },
      "source": [
        "df.keys()"
      ],
      "execution_count": null,
      "outputs": [
        {
          "output_type": "execute_result",
          "data": {
            "text/plain": [
              "Index(['created_at', 'id', 'tweet', 'in_reply_to_screen_name', 'retweet_count',\n",
              "       'favorite_count'],\n",
              "      dtype='object')"
            ]
          },
          "metadata": {},
          "execution_count": 33
        }
      ]
    },
    {
      "cell_type": "code",
      "metadata": {
        "colab": {
          "base_uri": "https://localhost:8080/",
          "height": 176
        },
        "id": "gfxaY_70A82z",
        "outputId": "f2735c4e-510f-4d0b-bb75-5c9f04071f2f"
      },
      "source": [
        "print(\"Tweet dari User dengan Retweet Terbanyak\")\n",
        "d_ = df[df['retweet_count'] == df['retweet_count'].max()]\n",
        "print(d_.iloc[0].tweet)\n",
        "d_.head(1)"
      ],
      "execution_count": null,
      "outputs": [
        {
          "output_type": "stream",
          "name": "stdout",
          "text": [
            "Tweet dari User dengan Retweet Terbanyak\n",
            "RT @weareoneEXO: BAEKHYUN JAPAN 1st MINI ALBUM 「BAEKHYUN」\n",
            "'Get You Alone'\n",
            "\n",
            "🎧 Melon: https://t.co/urd9upmCv3 \n",
            "🎧 FLO: https://t.co/YJC5wNUvYl…\n"
          ]
        },
        {
          "output_type": "execute_result",
          "data": {
            "text/html": [
              "<div>\n",
              "<style scoped>\n",
              "    .dataframe tbody tr th:only-of-type {\n",
              "        vertical-align: middle;\n",
              "    }\n",
              "\n",
              "    .dataframe tbody tr th {\n",
              "        vertical-align: top;\n",
              "    }\n",
              "\n",
              "    .dataframe thead th {\n",
              "        text-align: right;\n",
              "    }\n",
              "</style>\n",
              "<table border=\"1\" class=\"dataframe\">\n",
              "  <thead>\n",
              "    <tr style=\"text-align: right;\">\n",
              "      <th></th>\n",
              "      <th>created_at</th>\n",
              "      <th>id</th>\n",
              "      <th>tweet</th>\n",
              "      <th>in_reply_to_screen_name</th>\n",
              "      <th>retweet_count</th>\n",
              "      <th>favorite_count</th>\n",
              "    </tr>\n",
              "  </thead>\n",
              "  <tbody>\n",
              "    <tr>\n",
              "      <th>9885</th>\n",
              "      <td>2021-10-28 00:15:55</td>\n",
              "      <td>1453515837294333954</td>\n",
              "      <td>RT @weareoneEXO: BAEKHYUN JAPAN 1st MINI ALBUM...</td>\n",
              "      <td>None</td>\n",
              "      <td>21636</td>\n",
              "      <td>0</td>\n",
              "    </tr>\n",
              "  </tbody>\n",
              "</table>\n",
              "</div>"
            ],
            "text/plain": [
              "              created_at                   id  ... retweet_count favorite_count\n",
              "9885 2021-10-28 00:15:55  1453515837294333954  ...         21636              0\n",
              "\n",
              "[1 rows x 6 columns]"
            ]
          },
          "metadata": {},
          "execution_count": 34
        }
      ]
    },
    {
      "cell_type": "code",
      "metadata": {
        "colab": {
          "base_uri": "https://localhost:8080/",
          "height": 955
        },
        "id": "WJTOSb-8A_8z",
        "outputId": "6478438b-99a6-498c-ce02-23f48f4a178e"
      },
      "source": [
        "df.sort_values(by=['retweet_count'], ascending=False).head(30)"
      ],
      "execution_count": null,
      "outputs": [
        {
          "output_type": "execute_result",
          "data": {
            "text/html": [
              "<div>\n",
              "<style scoped>\n",
              "    .dataframe tbody tr th:only-of-type {\n",
              "        vertical-align: middle;\n",
              "    }\n",
              "\n",
              "    .dataframe tbody tr th {\n",
              "        vertical-align: top;\n",
              "    }\n",
              "\n",
              "    .dataframe thead th {\n",
              "        text-align: right;\n",
              "    }\n",
              "</style>\n",
              "<table border=\"1\" class=\"dataframe\">\n",
              "  <thead>\n",
              "    <tr style=\"text-align: right;\">\n",
              "      <th></th>\n",
              "      <th>created_at</th>\n",
              "      <th>id</th>\n",
              "      <th>tweet</th>\n",
              "      <th>in_reply_to_screen_name</th>\n",
              "      <th>retweet_count</th>\n",
              "      <th>favorite_count</th>\n",
              "    </tr>\n",
              "  </thead>\n",
              "  <tbody>\n",
              "    <tr>\n",
              "      <th>9885</th>\n",
              "      <td>2021-10-28 00:15:55</td>\n",
              "      <td>1453515837294333954</td>\n",
              "      <td>RT @weareoneEXO: BAEKHYUN JAPAN 1st MINI ALBUM...</td>\n",
              "      <td>None</td>\n",
              "      <td>21636</td>\n",
              "      <td>0</td>\n",
              "    </tr>\n",
              "    <tr>\n",
              "      <th>11684</th>\n",
              "      <td>2021-10-24 14:24:43</td>\n",
              "      <td>1452279892406587393</td>\n",
              "      <td>RT @feetre: Selamat pagi dari 12 derajat https...</td>\n",
              "      <td>None</td>\n",
              "      <td>14614</td>\n",
              "      <td>0</td>\n",
              "    </tr>\n",
              "    <tr>\n",
              "      <th>12595</th>\n",
              "      <td>2021-10-23 06:24:39</td>\n",
              "      <td>1451796694983659520</td>\n",
              "      <td>RT @seokjinfile: SEOKJIN HOW https://t.co/dcqY...</td>\n",
              "      <td>None</td>\n",
              "      <td>13452</td>\n",
              "      <td>0</td>\n",
              "    </tr>\n",
              "    <tr>\n",
              "      <th>12182</th>\n",
              "      <td>2021-10-23 17:04:08</td>\n",
              "      <td>1451957624358916101</td>\n",
              "      <td>RT @howtodresvvell: wkwkwkkw https://t.co/H9pY...</td>\n",
              "      <td>None</td>\n",
              "      <td>12570</td>\n",
              "      <td>0</td>\n",
              "    </tr>\n",
              "    <tr>\n",
              "      <th>11258</th>\n",
              "      <td>2021-10-25 09:12:06</td>\n",
              "      <td>1452563608383082496</td>\n",
              "      <td>RT @lemineraleale: banyak banget yg nanyain di...</td>\n",
              "      <td>None</td>\n",
              "      <td>11656</td>\n",
              "      <td>0</td>\n",
              "    </tr>\n",
              "    <tr>\n",
              "      <th>9500</th>\n",
              "      <td>2021-10-28 16:02:42</td>\n",
              "      <td>1453754105755693063</td>\n",
              "      <td>RT @FiersaBesari: Ini permasalahan hidup engga...</td>\n",
              "      <td>None</td>\n",
              "      <td>10737</td>\n",
              "      <td>0</td>\n",
              "    </tr>\n",
              "    <tr>\n",
              "      <th>12541</th>\n",
              "      <td>2021-10-23 08:38:41</td>\n",
              "      <td>1451830423516897283</td>\n",
              "      <td>RT @mockeeyyy: YA ALLAH GEMETERAN YA ALLAH ALH...</td>\n",
              "      <td>None</td>\n",
              "      <td>10467</td>\n",
              "      <td>0</td>\n",
              "    </tr>\n",
              "    <tr>\n",
              "      <th>9594</th>\n",
              "      <td>2021-10-28 13:15:46</td>\n",
              "      <td>1453712095539720206</td>\n",
              "      <td>RT @leeviousah: Bukan di indomaret https://t.c...</td>\n",
              "      <td>None</td>\n",
              "      <td>10010</td>\n",
              "      <td>0</td>\n",
              "    </tr>\n",
              "    <tr>\n",
              "      <th>15326</th>\n",
              "      <td>2021-10-21 23:52:35</td>\n",
              "      <td>1451335640507826178</td>\n",
              "      <td>RT @TiarCrypto: $100 | 1,4 JUTA in 24 HOURS\\n\\...</td>\n",
              "      <td>None</td>\n",
              "      <td>9419</td>\n",
              "      <td>0</td>\n",
              "    </tr>\n",
              "    <tr>\n",
              "      <th>15000</th>\n",
              "      <td>2021-10-25 02:46:27</td>\n",
              "      <td>1452466557376892930</td>\n",
              "      <td>RT @Shill_Ronin: $200 | 2.8 JT • 24 hrs • rt \\...</td>\n",
              "      <td>None</td>\n",
              "      <td>8376</td>\n",
              "      <td>0</td>\n",
              "    </tr>\n",
              "    <tr>\n",
              "      <th>15325</th>\n",
              "      <td>2021-10-21 23:52:40</td>\n",
              "      <td>1451335662012043268</td>\n",
              "      <td>RT @TiarCrypto: $100 | 1,4 JUTA in 24 HOURS\\n\\...</td>\n",
              "      <td>None</td>\n",
              "      <td>7486</td>\n",
              "      <td>0</td>\n",
              "    </tr>\n",
              "    <tr>\n",
              "      <th>9947</th>\n",
              "      <td>2021-10-27 17:57:15</td>\n",
              "      <td>1453420543588257792</td>\n",
              "      <td>RT @FiersaBesari: Yang shut up ditindas, yang ...</td>\n",
              "      <td>None</td>\n",
              "      <td>6538</td>\n",
              "      <td>0</td>\n",
              "    </tr>\n",
              "    <tr>\n",
              "      <th>12300</th>\n",
              "      <td>2021-10-23 13:46:04</td>\n",
              "      <td>1451907781481488386</td>\n",
              "      <td>RT @angga_fzn: Rekomendasi channel youtube bua...</td>\n",
              "      <td>None</td>\n",
              "      <td>5321</td>\n",
              "      <td>0</td>\n",
              "    </tr>\n",
              "    <tr>\n",
              "      <th>15001</th>\n",
              "      <td>2021-10-25 02:41:06</td>\n",
              "      <td>1452465211932172291</td>\n",
              "      <td>RT @TiarCrypto: $100 | 1,4 JUTA in 24 HOURS\\n\\...</td>\n",
              "      <td>None</td>\n",
              "      <td>5276</td>\n",
              "      <td>0</td>\n",
              "    </tr>\n",
              "    <tr>\n",
              "      <th>9906</th>\n",
              "      <td>2021-10-27 22:19:56</td>\n",
              "      <td>1453486650210750470</td>\n",
              "      <td>RT @femmeduart: Teuta Matoshi https://t.co/syG...</td>\n",
              "      <td>None</td>\n",
              "      <td>5216</td>\n",
              "      <td>0</td>\n",
              "    </tr>\n",
              "    <tr>\n",
              "      <th>9743</th>\n",
              "      <td>2021-10-28 07:05:10</td>\n",
              "      <td>1453618827464376320</td>\n",
              "      <td>RT @Adriandhy: Semakin memvalidkan bahwa marke...</td>\n",
              "      <td>None</td>\n",
              "      <td>4680</td>\n",
              "      <td>0</td>\n",
              "    </tr>\n",
              "    <tr>\n",
              "      <th>12860</th>\n",
              "      <td>2021-10-22 16:16:20</td>\n",
              "      <td>1451583208542203908</td>\n",
              "      <td>RT @kaptenAmercia: Langit bisakah kau turunkan...</td>\n",
              "      <td>None</td>\n",
              "      <td>4270</td>\n",
              "      <td>0</td>\n",
              "    </tr>\n",
              "    <tr>\n",
              "      <th>11997</th>\n",
              "      <td>2021-10-24 05:06:00</td>\n",
              "      <td>1452139286975770626</td>\n",
              "      <td>RT @youronlynuha: Tsubasa bisa fokus sepak bol...</td>\n",
              "      <td>None</td>\n",
              "      <td>3774</td>\n",
              "      <td>0</td>\n",
              "    </tr>\n",
              "    <tr>\n",
              "      <th>15166</th>\n",
              "      <td>2021-10-23 01:15:14</td>\n",
              "      <td>1451718827138453514</td>\n",
              "      <td>RT @CASHBROS303: $100 | 12hrs❤️\\n\\nRT + Follow...</td>\n",
              "      <td>None</td>\n",
              "      <td>3743</td>\n",
              "      <td>0</td>\n",
              "    </tr>\n",
              "    <tr>\n",
              "      <th>12567</th>\n",
              "      <td>2021-10-23 07:49:54</td>\n",
              "      <td>1451818149477699589</td>\n",
              "      <td>RT @cramelattea: Juara satu fandom teribet dan...</td>\n",
              "      <td>None</td>\n",
              "      <td>3547</td>\n",
              "      <td>0</td>\n",
              "    </tr>\n",
              "    <tr>\n",
              "      <th>9745</th>\n",
              "      <td>2021-10-28 06:51:00</td>\n",
              "      <td>1453615263979491335</td>\n",
              "      <td>RT @SBYudhoyono: @zarryhendrik Ananda @zarryhe...</td>\n",
              "      <td>None</td>\n",
              "      <td>3514</td>\n",
              "      <td>0</td>\n",
              "    </tr>\n",
              "    <tr>\n",
              "      <th>12877</th>\n",
              "      <td>2021-10-22 15:43:31</td>\n",
              "      <td>1451574948187688962</td>\n",
              "      <td>RT @NetflixID: Salam dari Binjai. https://t.co...</td>\n",
              "      <td>None</td>\n",
              "      <td>3448</td>\n",
              "      <td>0</td>\n",
              "    </tr>\n",
              "    <tr>\n",
              "      <th>12276</th>\n",
              "      <td>2021-10-23 13:59:02</td>\n",
              "      <td>1451911040975790080</td>\n",
              "      <td>RT @rereable: @AREAJULID emang pada berekspekt...</td>\n",
              "      <td>None</td>\n",
              "      <td>3077</td>\n",
              "      <td>0</td>\n",
              "    </tr>\n",
              "    <tr>\n",
              "      <th>9746</th>\n",
              "      <td>2021-10-28 06:50:55</td>\n",
              "      <td>1453615244744355848</td>\n",
              "      <td>RT @nctzenbase: Neozen Taeyong ada salah apa s...</td>\n",
              "      <td>None</td>\n",
              "      <td>3010</td>\n",
              "      <td>0</td>\n",
              "    </tr>\n",
              "    <tr>\n",
              "      <th>4389</th>\n",
              "      <td>2021-10-29 17:58:48</td>\n",
              "      <td>1454145710262194181</td>\n",
              "      <td>RT @seraphily: long hair kairi https://t.co/J6...</td>\n",
              "      <td>None</td>\n",
              "      <td>2510</td>\n",
              "      <td>0</td>\n",
              "    </tr>\n",
              "    <tr>\n",
              "      <th>10054</th>\n",
              "      <td>2021-10-27 14:32:59</td>\n",
              "      <td>1453369137758150659</td>\n",
              "      <td>RT @burnaboy: Ka Meta Ko Yodi Seyin, GBEKU htt...</td>\n",
              "      <td>None</td>\n",
              "      <td>2482</td>\n",
              "      <td>0</td>\n",
              "    </tr>\n",
              "    <tr>\n",
              "      <th>9493</th>\n",
              "      <td>2021-10-28 16:07:02</td>\n",
              "      <td>1453755194127241217</td>\n",
              "      <td>RT @fullshan_: Jisung: sayang itu apa? Kek car...</td>\n",
              "      <td>None</td>\n",
              "      <td>2112</td>\n",
              "      <td>0</td>\n",
              "    </tr>\n",
              "    <tr>\n",
              "      <th>10208</th>\n",
              "      <td>2021-10-27 10:52:02</td>\n",
              "      <td>1453313533404352513</td>\n",
              "      <td>RT @FajarAlviaan: Ko sinyo mau masuk geng nich...</td>\n",
              "      <td>None</td>\n",
              "      <td>2026</td>\n",
              "      <td>0</td>\n",
              "    </tr>\n",
              "    <tr>\n",
              "      <th>12184</th>\n",
              "      <td>2021-10-23 17:02:00</td>\n",
              "      <td>1451957086967844864</td>\n",
              "      <td>RT @jiaohjia: Korean artists punya diet🥲 Patut...</td>\n",
              "      <td>None</td>\n",
              "      <td>1977</td>\n",
              "      <td>0</td>\n",
              "    </tr>\n",
              "    <tr>\n",
              "      <th>10513</th>\n",
              "      <td>2021-10-26 18:04:34</td>\n",
              "      <td>1453059995914801156</td>\n",
              "      <td>RT @GitaSavitrii_: Orang yang tepat, gak akan ...</td>\n",
              "      <td>None</td>\n",
              "      <td>1943</td>\n",
              "      <td>0</td>\n",
              "    </tr>\n",
              "  </tbody>\n",
              "</table>\n",
              "</div>"
            ],
            "text/plain": [
              "               created_at                   id  ... retweet_count favorite_count\n",
              "9885  2021-10-28 00:15:55  1453515837294333954  ...         21636              0\n",
              "11684 2021-10-24 14:24:43  1452279892406587393  ...         14614              0\n",
              "12595 2021-10-23 06:24:39  1451796694983659520  ...         13452              0\n",
              "12182 2021-10-23 17:04:08  1451957624358916101  ...         12570              0\n",
              "11258 2021-10-25 09:12:06  1452563608383082496  ...         11656              0\n",
              "9500  2021-10-28 16:02:42  1453754105755693063  ...         10737              0\n",
              "12541 2021-10-23 08:38:41  1451830423516897283  ...         10467              0\n",
              "9594  2021-10-28 13:15:46  1453712095539720206  ...         10010              0\n",
              "15326 2021-10-21 23:52:35  1451335640507826178  ...          9419              0\n",
              "15000 2021-10-25 02:46:27  1452466557376892930  ...          8376              0\n",
              "15325 2021-10-21 23:52:40  1451335662012043268  ...          7486              0\n",
              "9947  2021-10-27 17:57:15  1453420543588257792  ...          6538              0\n",
              "12300 2021-10-23 13:46:04  1451907781481488386  ...          5321              0\n",
              "15001 2021-10-25 02:41:06  1452465211932172291  ...          5276              0\n",
              "9906  2021-10-27 22:19:56  1453486650210750470  ...          5216              0\n",
              "9743  2021-10-28 07:05:10  1453618827464376320  ...          4680              0\n",
              "12860 2021-10-22 16:16:20  1451583208542203908  ...          4270              0\n",
              "11997 2021-10-24 05:06:00  1452139286975770626  ...          3774              0\n",
              "15166 2021-10-23 01:15:14  1451718827138453514  ...          3743              0\n",
              "12567 2021-10-23 07:49:54  1451818149477699589  ...          3547              0\n",
              "9745  2021-10-28 06:51:00  1453615263979491335  ...          3514              0\n",
              "12877 2021-10-22 15:43:31  1451574948187688962  ...          3448              0\n",
              "12276 2021-10-23 13:59:02  1451911040975790080  ...          3077              0\n",
              "9746  2021-10-28 06:50:55  1453615244744355848  ...          3010              0\n",
              "4389  2021-10-29 17:58:48  1454145710262194181  ...          2510              0\n",
              "10054 2021-10-27 14:32:59  1453369137758150659  ...          2482              0\n",
              "9493  2021-10-28 16:07:02  1453755194127241217  ...          2112              0\n",
              "10208 2021-10-27 10:52:02  1453313533404352513  ...          2026              0\n",
              "12184 2021-10-23 17:02:00  1451957086967844864  ...          1977              0\n",
              "10513 2021-10-26 18:04:34  1453059995914801156  ...          1943              0\n",
              "\n",
              "[30 rows x 6 columns]"
            ]
          },
          "metadata": {},
          "execution_count": 35
        }
      ]
    },
    {
      "cell_type": "code",
      "metadata": {
        "colab": {
          "base_uri": "https://localhost:8080/",
          "height": 35
        },
        "id": "WOXmAbf2BHmt",
        "outputId": "612f3196-3fdb-4194-e856-86776e17fc3d"
      },
      "source": [
        "df.loc[11684, 'tweet']"
      ],
      "execution_count": null,
      "outputs": [
        {
          "output_type": "execute_result",
          "data": {
            "application/vnd.google.colaboratory.intrinsic+json": {
              "type": "string"
            },
            "text/plain": [
              "'RT @feetre: Selamat pagi dari 12 derajat https://t.co/0C2nArdL3Y'"
            ]
          },
          "metadata": {},
          "execution_count": 36
        }
      ]
    },
    {
      "cell_type": "code",
      "metadata": {
        "colab": {
          "base_uri": "https://localhost:8080/",
          "height": 143
        },
        "id": "6p_AjkDXBOTb",
        "outputId": "ddbc869e-238b-42d6-b150-a8c6453ecb93"
      },
      "source": [
        "print(\"Tweet dari User dengan Like Terbanyak\")\n",
        "d_2 = df[df['favorite_count'] == df['favorite_count'].max()]\n",
        "print(d_2.iloc[0].tweet)\n",
        "d_2.head(1)"
      ],
      "execution_count": null,
      "outputs": [
        {
          "output_type": "stream",
          "name": "stdout",
          "text": [
            "Tweet dari User dengan Like Terbanyak\n",
            "Facebook dah tukar nama syarikat jadi Meta. Dia tengah build in satu platform nama Metaverse. \n",
            "\n",
            "Welcome to cyberpunk 2077. Kita semua boleh hidup &amp; tinggal dalam virtual world. Mark dah lama rancang, kita yang terlupa nak lalai 😔☝️\n"
          ]
        },
        {
          "output_type": "execute_result",
          "data": {
            "text/html": [
              "<div>\n",
              "<style scoped>\n",
              "    .dataframe tbody tr th:only-of-type {\n",
              "        vertical-align: middle;\n",
              "    }\n",
              "\n",
              "    .dataframe tbody tr th {\n",
              "        vertical-align: top;\n",
              "    }\n",
              "\n",
              "    .dataframe thead th {\n",
              "        text-align: right;\n",
              "    }\n",
              "</style>\n",
              "<table border=\"1\" class=\"dataframe\">\n",
              "  <thead>\n",
              "    <tr style=\"text-align: right;\">\n",
              "      <th></th>\n",
              "      <th>created_at</th>\n",
              "      <th>id</th>\n",
              "      <th>tweet</th>\n",
              "      <th>in_reply_to_screen_name</th>\n",
              "      <th>retweet_count</th>\n",
              "      <th>favorite_count</th>\n",
              "    </tr>\n",
              "  </thead>\n",
              "  <tbody>\n",
              "    <tr>\n",
              "      <th>2261</th>\n",
              "      <td>2021-10-28 22:49:54</td>\n",
              "      <td>1453856578419900420</td>\n",
              "      <td>Facebook dah tukar nama syarikat jadi Meta. Di...</td>\n",
              "      <td>None</td>\n",
              "      <td>882</td>\n",
              "      <td>2571</td>\n",
              "    </tr>\n",
              "  </tbody>\n",
              "</table>\n",
              "</div>"
            ],
            "text/plain": [
              "              created_at                   id  ... retweet_count favorite_count\n",
              "2261 2021-10-28 22:49:54  1453856578419900420  ...           882           2571\n",
              "\n",
              "[1 rows x 6 columns]"
            ]
          },
          "metadata": {},
          "execution_count": 37
        }
      ]
    },
    {
      "cell_type": "code",
      "metadata": {
        "colab": {
          "base_uri": "https://localhost:8080/",
          "height": 351
        },
        "id": "bxQtyajQBRBL",
        "outputId": "3bbd80cc-bad6-4365-d0de-c931184053ee"
      },
      "source": [
        "df.sort_values(by=['favorite_count'], ascending=False).head(10)"
      ],
      "execution_count": null,
      "outputs": [
        {
          "output_type": "execute_result",
          "data": {
            "text/html": [
              "<div>\n",
              "<style scoped>\n",
              "    .dataframe tbody tr th:only-of-type {\n",
              "        vertical-align: middle;\n",
              "    }\n",
              "\n",
              "    .dataframe tbody tr th {\n",
              "        vertical-align: top;\n",
              "    }\n",
              "\n",
              "    .dataframe thead th {\n",
              "        text-align: right;\n",
              "    }\n",
              "</style>\n",
              "<table border=\"1\" class=\"dataframe\">\n",
              "  <thead>\n",
              "    <tr style=\"text-align: right;\">\n",
              "      <th></th>\n",
              "      <th>created_at</th>\n",
              "      <th>id</th>\n",
              "      <th>tweet</th>\n",
              "      <th>in_reply_to_screen_name</th>\n",
              "      <th>retweet_count</th>\n",
              "      <th>favorite_count</th>\n",
              "    </tr>\n",
              "  </thead>\n",
              "  <tbody>\n",
              "    <tr>\n",
              "      <th>2261</th>\n",
              "      <td>2021-10-28 22:49:54</td>\n",
              "      <td>1453856578419900420</td>\n",
              "      <td>Facebook dah tukar nama syarikat jadi Meta. Di...</td>\n",
              "      <td>None</td>\n",
              "      <td>882</td>\n",
              "      <td>2571</td>\n",
              "    </tr>\n",
              "    <tr>\n",
              "      <th>1713</th>\n",
              "      <td>2021-10-29 03:02:16</td>\n",
              "      <td>1453920087820304385</td>\n",
              "      <td>Ramai salah anggap sebenarnya. Bukan Facebook ...</td>\n",
              "      <td>None</td>\n",
              "      <td>986</td>\n",
              "      <td>1940</td>\n",
              "    </tr>\n",
              "    <tr>\n",
              "      <th>1352</th>\n",
              "      <td>2021-10-29 05:05:43</td>\n",
              "      <td>1453951156552552450</td>\n",
              "      <td>FROM FACEBOOK TO META.\\n\\nBaru sahaja diumumka...</td>\n",
              "      <td>None</td>\n",
              "      <td>1044</td>\n",
              "      <td>1857</td>\n",
              "    </tr>\n",
              "    <tr>\n",
              "      <th>608</th>\n",
              "      <td>2021-10-29 11:16:30</td>\n",
              "      <td>1454044466755489793</td>\n",
              "      <td>Kenapa Facebook ganti nama jadi Meta ?\\n\\nKare...</td>\n",
              "      <td>None</td>\n",
              "      <td>181</td>\n",
              "      <td>1831</td>\n",
              "    </tr>\n",
              "    <tr>\n",
              "      <th>2573</th>\n",
              "      <td>2021-10-28 18:35:42</td>\n",
              "      <td>1453792608409456642</td>\n",
              "      <td>TERKINI\\n\\nFacebook menukar nama syarikatnya k...</td>\n",
              "      <td>None</td>\n",
              "      <td>383</td>\n",
              "      <td>1356</td>\n",
              "    </tr>\n",
              "    <tr>\n",
              "      <th>14466</th>\n",
              "      <td>2021-10-28 01:54:46</td>\n",
              "      <td>1453540712998334466</td>\n",
              "      <td>Satu lagi aku kasih tau kalau SM sudah bekerja...</td>\n",
              "      <td>None</td>\n",
              "      <td>286</td>\n",
              "      <td>1214</td>\n",
              "    </tr>\n",
              "    <tr>\n",
              "      <th>6053</th>\n",
              "      <td>2021-10-29 08:44:39</td>\n",
              "      <td>1454006253659643905</td>\n",
              "      <td>Bang, Jokesnya Meta banget.. https://t.co/LBrJ...</td>\n",
              "      <td>None</td>\n",
              "      <td>70</td>\n",
              "      <td>1103</td>\n",
              "    </tr>\n",
              "    <tr>\n",
              "      <th>2215</th>\n",
              "      <td>2021-10-28 23:39:47</td>\n",
              "      <td>1453869131468394501</td>\n",
              "      <td>Nama baru Company Facebook adalah @meta. Mark ...</td>\n",
              "      <td>None</td>\n",
              "      <td>499</td>\n",
              "      <td>1042</td>\n",
              "    </tr>\n",
              "    <tr>\n",
              "      <th>14259</th>\n",
              "      <td>2021-10-29 02:21:40</td>\n",
              "      <td>1453909870114009091</td>\n",
              "      <td>Ketika SM udah mulai mengembangkan dunia Metav...</td>\n",
              "      <td>None</td>\n",
              "      <td>217</td>\n",
              "      <td>953</td>\n",
              "    </tr>\n",
              "    <tr>\n",
              "      <th>14204</th>\n",
              "      <td>2021-10-29 03:49:40</td>\n",
              "      <td>1453932016550830092</td>\n",
              "      <td>perbedaan aespa sama KDA yang sering diperdeba...</td>\n",
              "      <td>None</td>\n",
              "      <td>260</td>\n",
              "      <td>857</td>\n",
              "    </tr>\n",
              "  </tbody>\n",
              "</table>\n",
              "</div>"
            ],
            "text/plain": [
              "               created_at                   id  ... retweet_count favorite_count\n",
              "2261  2021-10-28 22:49:54  1453856578419900420  ...           882           2571\n",
              "1713  2021-10-29 03:02:16  1453920087820304385  ...           986           1940\n",
              "1352  2021-10-29 05:05:43  1453951156552552450  ...          1044           1857\n",
              "608   2021-10-29 11:16:30  1454044466755489793  ...           181           1831\n",
              "2573  2021-10-28 18:35:42  1453792608409456642  ...           383           1356\n",
              "14466 2021-10-28 01:54:46  1453540712998334466  ...           286           1214\n",
              "6053  2021-10-29 08:44:39  1454006253659643905  ...            70           1103\n",
              "2215  2021-10-28 23:39:47  1453869131468394501  ...           499           1042\n",
              "14259 2021-10-29 02:21:40  1453909870114009091  ...           217            953\n",
              "14204 2021-10-29 03:49:40  1453932016550830092  ...           260            857\n",
              "\n",
              "[10 rows x 6 columns]"
            ]
          },
          "metadata": {},
          "execution_count": 38
        }
      ]
    },
    {
      "cell_type": "code",
      "metadata": {
        "colab": {
          "base_uri": "https://localhost:8080/",
          "height": 51
        },
        "id": "qwvNCNtZBUZd",
        "outputId": "0a1b77b9-e333-406b-f94a-174f45440cf9"
      },
      "source": [
        "df.loc[2436, 'tweet']"
      ],
      "execution_count": null,
      "outputs": [
        {
          "output_type": "execute_result",
          "data": {
            "application/vnd.google.colaboratory.intrinsic+json": {
              "type": "string"
            },
            "text/plain": [
              "'Facebook Inc, induk perusahaan yang menaungi Facebook, kini bernama \\'Meta\\'.\\n\\n\"Aplikasi kami dan merk, mereka tak akan berubah,\" ujar sang CEO, Mark Zuckenberg. https://t.co/bTieT4omu7'"
            ]
          },
          "metadata": {},
          "execution_count": 39
        }
      ]
    },
    {
      "cell_type": "code",
      "metadata": {
        "colab": {
          "base_uri": "https://localhost:8080/"
        },
        "id": "2zByEvklBX3I",
        "outputId": "7080984f-ea9f-4b9c-cbb3-4aec1bb41044"
      },
      "source": [
        "df['in_reply_to_screen_name']"
      ],
      "execution_count": null,
      "outputs": [
        {
          "output_type": "execute_result",
          "data": {
            "text/plain": [
              "0           None\n",
              "1           None\n",
              "2           None\n",
              "3           None\n",
              "4           None\n",
              "          ...   \n",
              "15374       None\n",
              "15375    gemhost\n",
              "15376    gemhost\n",
              "15377       None\n",
              "15378       None\n",
              "Name: in_reply_to_screen_name, Length: 15379, dtype: object"
            ]
          },
          "metadata": {},
          "execution_count": 40
        }
      ]
    },
    {
      "cell_type": "code",
      "metadata": {
        "colab": {
          "base_uri": "https://localhost:8080/",
          "height": 417
        },
        "id": "Ls-IttYOBbFP",
        "outputId": "02018a99-4888-48fa-ed2b-d87194f3c94a"
      },
      "source": [
        "d_3 = df['in_reply_to_screen_name'].value_counts().head(10)\n",
        "d_3 = pd.DataFrame(data=d_3)\n",
        "d_3.reset_index(inplace=True)\n",
        "d_3 = d_3.rename(columns = {'index':'Username', 'in_reply_to_screen_name':'Banyak Reply Tweet'})\n",
        "d_3\n",
        "\n",
        "fig = px.bar(d_3, x='Username', y='Banyak Reply Tweet', color='Username', title = '10 Akun Twitter yang Tweet nya Paling Banyak Direply', height=400)\n",
        "fig.show()"
      ],
      "execution_count": null,
      "outputs": [
        {
          "output_type": "display_data",
          "data": {
            "text/html": [
              "<html>\n",
              "<head><meta charset=\"utf-8\" /></head>\n",
              "<body>\n",
              "    <div>\n",
              "            <script src=\"https://cdnjs.cloudflare.com/ajax/libs/mathjax/2.7.5/MathJax.js?config=TeX-AMS-MML_SVG\"></script><script type=\"text/javascript\">if (window.MathJax) {MathJax.Hub.Config({SVG: {font: \"STIX-Web\"}});}</script>\n",
              "                <script type=\"text/javascript\">window.PlotlyConfig = {MathJaxConfig: 'local'};</script>\n",
              "        <script src=\"https://cdn.plot.ly/plotly-latest.min.js\"></script>    \n",
              "            <div id=\"f668a79c-eb7b-408e-83ad-3628f75e7b52\" class=\"plotly-graph-div\" style=\"height:400px; width:100%;\"></div>\n",
              "            <script type=\"text/javascript\">\n",
              "                \n",
              "                    window.PLOTLYENV=window.PLOTLYENV || {};\n",
              "                    \n",
              "                if (document.getElementById(\"f668a79c-eb7b-408e-83ad-3628f75e7b52\")) {\n",
              "                    Plotly.newPlot(\n",
              "                        'f668a79c-eb7b-408e-83ad-3628f75e7b52',\n",
              "                        [{\"alignmentgroup\": \"True\", \"hoverlabel\": {\"namelength\": 0}, \"hovertemplate\": \"Username=%{x}<br>Banyak Reply Tweet=%{y}\", \"legendgroup\": \"Username=sof1azara03\", \"marker\": {\"color\": \"#636efa\"}, \"name\": \"Username=sof1azara03\", \"offsetgroup\": \"Username=sof1azara03\", \"orientation\": \"v\", \"showlegend\": true, \"textposition\": \"auto\", \"type\": \"bar\", \"x\": [\"sof1azara03\"], \"xaxis\": \"x\", \"y\": [671], \"yaxis\": \"y\"}, {\"alignmentgroup\": \"True\", \"hoverlabel\": {\"namelength\": 0}, \"hovertemplate\": \"Username=%{x}<br>Banyak Reply Tweet=%{y}\", \"legendgroup\": \"Username=rakuni_meta\", \"marker\": {\"color\": \"#EF553B\"}, \"name\": \"Username=rakuni_meta\", \"offsetgroup\": \"Username=rakuni_meta\", \"orientation\": \"v\", \"showlegend\": true, \"textposition\": \"auto\", \"type\": \"bar\", \"x\": [\"rakuni_meta\"], \"xaxis\": \"x\", \"y\": [137], \"yaxis\": \"y\"}, {\"alignmentgroup\": \"True\", \"hoverlabel\": {\"namelength\": 0}, \"hovertemplate\": \"Username=%{x}<br>Banyak Reply Tweet=%{y}\", \"legendgroup\": \"Username=mlbbfess\", \"marker\": {\"color\": \"#00cc96\"}, \"name\": \"Username=mlbbfess\", \"offsetgroup\": \"Username=mlbbfess\", \"orientation\": \"v\", \"showlegend\": true, \"textposition\": \"auto\", \"type\": \"bar\", \"x\": [\"mlbbfess\"], \"xaxis\": \"x\", \"y\": [137], \"yaxis\": \"y\"}, {\"alignmentgroup\": \"True\", \"hoverlabel\": {\"namelength\": 0}, \"hovertemplate\": \"Username=%{x}<br>Banyak Reply Tweet=%{y}\", \"legendgroup\": \"Username=bertanyarl\", \"marker\": {\"color\": \"#ab63fa\"}, \"name\": \"Username=bertanyarl\", \"offsetgroup\": \"Username=bertanyarl\", \"orientation\": \"v\", \"showlegend\": true, \"textposition\": \"auto\", \"type\": \"bar\", \"x\": [\"bertanyarl\"], \"xaxis\": \"x\", \"y\": [79], \"yaxis\": \"y\"}, {\"alignmentgroup\": \"True\", \"hoverlabel\": {\"namelength\": 0}, \"hovertemplate\": \"Username=%{x}<br>Banyak Reply Tweet=%{y}\", \"legendgroup\": \"Username=GiveAwayHost\", \"marker\": {\"color\": \"#FFA15A\"}, \"name\": \"Username=GiveAwayHost\", \"offsetgroup\": \"Username=GiveAwayHost\", \"orientation\": \"v\", \"showlegend\": true, \"textposition\": \"auto\", \"type\": \"bar\", \"x\": [\"GiveAwayHost\"], \"xaxis\": \"x\", \"y\": [78], \"yaxis\": \"y\"}, {\"alignmentgroup\": \"True\", \"hoverlabel\": {\"namelength\": 0}, \"hovertemplate\": \"Username=%{x}<br>Banyak Reply Tweet=%{y}\", \"legendgroup\": \"Username=Metaverse_Inu\", \"marker\": {\"color\": \"#19d3f3\"}, \"name\": \"Username=Metaverse_Inu\", \"offsetgroup\": \"Username=Metaverse_Inu\", \"orientation\": \"v\", \"showlegend\": true, \"textposition\": \"auto\", \"type\": \"bar\", \"x\": [\"Metaverse_Inu\"], \"xaxis\": \"x\", \"y\": [68], \"yaxis\": \"y\"}, {\"alignmentgroup\": \"True\", \"hoverlabel\": {\"namelength\": 0}, \"hovertemplate\": \"Username=%{x}<br>Banyak Reply Tweet=%{y}\", \"legendgroup\": \"Username=babufess\", \"marker\": {\"color\": \"#FF6692\"}, \"name\": \"Username=babufess\", \"offsetgroup\": \"Username=babufess\", \"orientation\": \"v\", \"showlegend\": true, \"textposition\": \"auto\", \"type\": \"bar\", \"x\": [\"babufess\"], \"xaxis\": \"x\", \"y\": [62], \"yaxis\": \"y\"}, {\"alignmentgroup\": \"True\", \"hoverlabel\": {\"namelength\": 0}, \"hovertemplate\": \"Username=%{x}<br>Banyak Reply Tweet=%{y}\", \"legendgroup\": \"Username=paimonfess\", \"marker\": {\"color\": \"#B6E880\"}, \"name\": \"Username=paimonfess\", \"offsetgroup\": \"Username=paimonfess\", \"orientation\": \"v\", \"showlegend\": true, \"textposition\": \"auto\", \"type\": \"bar\", \"x\": [\"paimonfess\"], \"xaxis\": \"x\", \"y\": [54], \"yaxis\": \"y\"}, {\"alignmentgroup\": \"True\", \"hoverlabel\": {\"namelength\": 0}, \"hovertemplate\": \"Username=%{x}<br>Banyak Reply Tweet=%{y}\", \"legendgroup\": \"Username=Meta\", \"marker\": {\"color\": \"#FF97FF\"}, \"name\": \"Username=Meta\", \"offsetgroup\": \"Username=Meta\", \"orientation\": \"v\", \"showlegend\": true, \"textposition\": \"auto\", \"type\": \"bar\", \"x\": [\"Meta\"], \"xaxis\": \"x\", \"y\": [51], \"yaxis\": \"y\"}, {\"alignmentgroup\": \"True\", \"hoverlabel\": {\"namelength\": 0}, \"hovertemplate\": \"Username=%{x}<br>Banyak Reply Tweet=%{y}\", \"legendgroup\": \"Username=IM3Ooredoo\", \"marker\": {\"color\": \"#FECB52\"}, \"name\": \"Username=IM3Ooredoo\", \"offsetgroup\": \"Username=IM3Ooredoo\", \"orientation\": \"v\", \"showlegend\": true, \"textposition\": \"auto\", \"type\": \"bar\", \"x\": [\"IM3Ooredoo\"], \"xaxis\": \"x\", \"y\": [50], \"yaxis\": \"y\"}],\n",
              "                        {\"barmode\": \"relative\", \"height\": 400, \"legend\": {\"tracegroupgap\": 0}, \"template\": {\"data\": {\"bar\": [{\"error_x\": {\"color\": \"#2a3f5f\"}, \"error_y\": {\"color\": \"#2a3f5f\"}, \"marker\": {\"line\": {\"color\": \"#E5ECF6\", \"width\": 0.5}}, \"type\": \"bar\"}], \"barpolar\": [{\"marker\": {\"line\": {\"color\": \"#E5ECF6\", \"width\": 0.5}}, \"type\": \"barpolar\"}], \"carpet\": [{\"aaxis\": {\"endlinecolor\": \"#2a3f5f\", \"gridcolor\": \"white\", \"linecolor\": \"white\", \"minorgridcolor\": \"white\", \"startlinecolor\": \"#2a3f5f\"}, \"baxis\": {\"endlinecolor\": \"#2a3f5f\", \"gridcolor\": \"white\", \"linecolor\": \"white\", \"minorgridcolor\": \"white\", \"startlinecolor\": \"#2a3f5f\"}, \"type\": \"carpet\"}], \"choropleth\": [{\"colorbar\": {\"outlinewidth\": 0, \"ticks\": \"\"}, \"type\": \"choropleth\"}], \"contour\": [{\"colorbar\": {\"outlinewidth\": 0, \"ticks\": \"\"}, \"colorscale\": [[0.0, \"#0d0887\"], [0.1111111111111111, \"#46039f\"], [0.2222222222222222, \"#7201a8\"], [0.3333333333333333, \"#9c179e\"], [0.4444444444444444, \"#bd3786\"], [0.5555555555555556, \"#d8576b\"], [0.6666666666666666, \"#ed7953\"], [0.7777777777777778, \"#fb9f3a\"], [0.8888888888888888, \"#fdca26\"], [1.0, \"#f0f921\"]], \"type\": \"contour\"}], \"contourcarpet\": [{\"colorbar\": {\"outlinewidth\": 0, \"ticks\": \"\"}, \"type\": \"contourcarpet\"}], \"heatmap\": [{\"colorbar\": {\"outlinewidth\": 0, \"ticks\": \"\"}, \"colorscale\": [[0.0, \"#0d0887\"], [0.1111111111111111, \"#46039f\"], [0.2222222222222222, \"#7201a8\"], [0.3333333333333333, \"#9c179e\"], [0.4444444444444444, \"#bd3786\"], [0.5555555555555556, \"#d8576b\"], [0.6666666666666666, \"#ed7953\"], [0.7777777777777778, \"#fb9f3a\"], [0.8888888888888888, \"#fdca26\"], [1.0, \"#f0f921\"]], \"type\": \"heatmap\"}], \"heatmapgl\": [{\"colorbar\": {\"outlinewidth\": 0, \"ticks\": \"\"}, \"colorscale\": [[0.0, \"#0d0887\"], [0.1111111111111111, \"#46039f\"], [0.2222222222222222, \"#7201a8\"], [0.3333333333333333, \"#9c179e\"], [0.4444444444444444, \"#bd3786\"], [0.5555555555555556, \"#d8576b\"], [0.6666666666666666, \"#ed7953\"], [0.7777777777777778, \"#fb9f3a\"], [0.8888888888888888, \"#fdca26\"], [1.0, \"#f0f921\"]], \"type\": \"heatmapgl\"}], \"histogram\": [{\"marker\": {\"colorbar\": {\"outlinewidth\": 0, \"ticks\": \"\"}}, \"type\": \"histogram\"}], \"histogram2d\": [{\"colorbar\": {\"outlinewidth\": 0, \"ticks\": \"\"}, \"colorscale\": [[0.0, \"#0d0887\"], [0.1111111111111111, \"#46039f\"], [0.2222222222222222, \"#7201a8\"], [0.3333333333333333, \"#9c179e\"], [0.4444444444444444, \"#bd3786\"], [0.5555555555555556, \"#d8576b\"], [0.6666666666666666, \"#ed7953\"], [0.7777777777777778, \"#fb9f3a\"], [0.8888888888888888, \"#fdca26\"], [1.0, \"#f0f921\"]], \"type\": \"histogram2d\"}], \"histogram2dcontour\": [{\"colorbar\": {\"outlinewidth\": 0, \"ticks\": \"\"}, \"colorscale\": [[0.0, \"#0d0887\"], [0.1111111111111111, \"#46039f\"], [0.2222222222222222, \"#7201a8\"], [0.3333333333333333, \"#9c179e\"], [0.4444444444444444, \"#bd3786\"], [0.5555555555555556, \"#d8576b\"], [0.6666666666666666, \"#ed7953\"], [0.7777777777777778, \"#fb9f3a\"], [0.8888888888888888, \"#fdca26\"], [1.0, \"#f0f921\"]], \"type\": \"histogram2dcontour\"}], \"mesh3d\": [{\"colorbar\": {\"outlinewidth\": 0, \"ticks\": \"\"}, \"type\": \"mesh3d\"}], \"parcoords\": [{\"line\": {\"colorbar\": {\"outlinewidth\": 0, \"ticks\": \"\"}}, \"type\": \"parcoords\"}], \"pie\": [{\"automargin\": true, \"type\": \"pie\"}], \"scatter\": [{\"marker\": {\"colorbar\": {\"outlinewidth\": 0, \"ticks\": \"\"}}, \"type\": \"scatter\"}], \"scatter3d\": [{\"line\": {\"colorbar\": {\"outlinewidth\": 0, \"ticks\": \"\"}}, \"marker\": {\"colorbar\": {\"outlinewidth\": 0, \"ticks\": \"\"}}, \"type\": \"scatter3d\"}], \"scattercarpet\": [{\"marker\": {\"colorbar\": {\"outlinewidth\": 0, \"ticks\": \"\"}}, \"type\": \"scattercarpet\"}], \"scattergeo\": [{\"marker\": {\"colorbar\": {\"outlinewidth\": 0, \"ticks\": \"\"}}, \"type\": \"scattergeo\"}], \"scattergl\": [{\"marker\": {\"colorbar\": {\"outlinewidth\": 0, \"ticks\": \"\"}}, \"type\": \"scattergl\"}], \"scattermapbox\": [{\"marker\": {\"colorbar\": {\"outlinewidth\": 0, \"ticks\": \"\"}}, \"type\": \"scattermapbox\"}], \"scatterpolar\": [{\"marker\": {\"colorbar\": {\"outlinewidth\": 0, \"ticks\": \"\"}}, \"type\": \"scatterpolar\"}], \"scatterpolargl\": [{\"marker\": {\"colorbar\": {\"outlinewidth\": 0, \"ticks\": \"\"}}, \"type\": \"scatterpolargl\"}], \"scatterternary\": [{\"marker\": {\"colorbar\": {\"outlinewidth\": 0, \"ticks\": \"\"}}, \"type\": \"scatterternary\"}], \"surface\": [{\"colorbar\": {\"outlinewidth\": 0, \"ticks\": \"\"}, \"colorscale\": [[0.0, \"#0d0887\"], [0.1111111111111111, \"#46039f\"], [0.2222222222222222, \"#7201a8\"], [0.3333333333333333, \"#9c179e\"], [0.4444444444444444, \"#bd3786\"], [0.5555555555555556, \"#d8576b\"], [0.6666666666666666, \"#ed7953\"], [0.7777777777777778, \"#fb9f3a\"], [0.8888888888888888, \"#fdca26\"], [1.0, \"#f0f921\"]], \"type\": \"surface\"}], \"table\": [{\"cells\": {\"fill\": {\"color\": \"#EBF0F8\"}, \"line\": {\"color\": \"white\"}}, \"header\": {\"fill\": {\"color\": \"#C8D4E3\"}, \"line\": {\"color\": \"white\"}}, \"type\": \"table\"}]}, \"layout\": {\"annotationdefaults\": {\"arrowcolor\": \"#2a3f5f\", \"arrowhead\": 0, \"arrowwidth\": 1}, \"coloraxis\": {\"colorbar\": {\"outlinewidth\": 0, \"ticks\": \"\"}}, \"colorscale\": {\"diverging\": [[0, \"#8e0152\"], [0.1, \"#c51b7d\"], [0.2, \"#de77ae\"], [0.3, \"#f1b6da\"], [0.4, \"#fde0ef\"], [0.5, \"#f7f7f7\"], [0.6, \"#e6f5d0\"], [0.7, \"#b8e186\"], [0.8, \"#7fbc41\"], [0.9, \"#4d9221\"], [1, \"#276419\"]], \"sequential\": [[0.0, \"#0d0887\"], [0.1111111111111111, \"#46039f\"], [0.2222222222222222, \"#7201a8\"], [0.3333333333333333, \"#9c179e\"], [0.4444444444444444, \"#bd3786\"], [0.5555555555555556, \"#d8576b\"], [0.6666666666666666, \"#ed7953\"], [0.7777777777777778, \"#fb9f3a\"], [0.8888888888888888, \"#fdca26\"], [1.0, \"#f0f921\"]], \"sequentialminus\": [[0.0, \"#0d0887\"], [0.1111111111111111, \"#46039f\"], [0.2222222222222222, \"#7201a8\"], [0.3333333333333333, \"#9c179e\"], [0.4444444444444444, \"#bd3786\"], [0.5555555555555556, \"#d8576b\"], [0.6666666666666666, \"#ed7953\"], [0.7777777777777778, \"#fb9f3a\"], [0.8888888888888888, \"#fdca26\"], [1.0, \"#f0f921\"]]}, \"colorway\": [\"#636efa\", \"#EF553B\", \"#00cc96\", \"#ab63fa\", \"#FFA15A\", \"#19d3f3\", \"#FF6692\", \"#B6E880\", \"#FF97FF\", \"#FECB52\"], \"font\": {\"color\": \"#2a3f5f\"}, \"geo\": {\"bgcolor\": \"white\", \"lakecolor\": \"white\", \"landcolor\": \"#E5ECF6\", \"showlakes\": true, \"showland\": true, \"subunitcolor\": \"white\"}, \"hoverlabel\": {\"align\": \"left\"}, \"hovermode\": \"closest\", \"mapbox\": {\"style\": \"light\"}, \"paper_bgcolor\": \"white\", \"plot_bgcolor\": \"#E5ECF6\", \"polar\": {\"angularaxis\": {\"gridcolor\": \"white\", \"linecolor\": \"white\", \"ticks\": \"\"}, \"bgcolor\": \"#E5ECF6\", \"radialaxis\": {\"gridcolor\": \"white\", \"linecolor\": \"white\", \"ticks\": \"\"}}, \"scene\": {\"xaxis\": {\"backgroundcolor\": \"#E5ECF6\", \"gridcolor\": \"white\", \"gridwidth\": 2, \"linecolor\": \"white\", \"showbackground\": true, \"ticks\": \"\", \"zerolinecolor\": \"white\"}, \"yaxis\": {\"backgroundcolor\": \"#E5ECF6\", \"gridcolor\": \"white\", \"gridwidth\": 2, \"linecolor\": \"white\", \"showbackground\": true, \"ticks\": \"\", \"zerolinecolor\": \"white\"}, \"zaxis\": {\"backgroundcolor\": \"#E5ECF6\", \"gridcolor\": \"white\", \"gridwidth\": 2, \"linecolor\": \"white\", \"showbackground\": true, \"ticks\": \"\", \"zerolinecolor\": \"white\"}}, \"shapedefaults\": {\"line\": {\"color\": \"#2a3f5f\"}}, \"ternary\": {\"aaxis\": {\"gridcolor\": \"white\", \"linecolor\": \"white\", \"ticks\": \"\"}, \"baxis\": {\"gridcolor\": \"white\", \"linecolor\": \"white\", \"ticks\": \"\"}, \"bgcolor\": \"#E5ECF6\", \"caxis\": {\"gridcolor\": \"white\", \"linecolor\": \"white\", \"ticks\": \"\"}}, \"title\": {\"x\": 0.05}, \"xaxis\": {\"automargin\": true, \"gridcolor\": \"white\", \"linecolor\": \"white\", \"ticks\": \"\", \"title\": {\"standoff\": 15}, \"zerolinecolor\": \"white\", \"zerolinewidth\": 2}, \"yaxis\": {\"automargin\": true, \"gridcolor\": \"white\", \"linecolor\": \"white\", \"ticks\": \"\", \"title\": {\"standoff\": 15}, \"zerolinecolor\": \"white\", \"zerolinewidth\": 2}}}, \"title\": {\"text\": \"10 Akun Twitter yang Tweet nya Paling Banyak Direply\"}, \"xaxis\": {\"anchor\": \"y\", \"categoryarray\": [\"sof1azara03\", \"rakuni_meta\", \"mlbbfess\", \"bertanyarl\", \"GiveAwayHost\", \"Metaverse_Inu\", \"babufess\", \"paimonfess\", \"Meta\", \"IM3Ooredoo\"], \"categoryorder\": \"array\", \"domain\": [0.0, 1.0], \"title\": {\"text\": \"Username\"}}, \"yaxis\": {\"anchor\": \"x\", \"domain\": [0.0, 1.0], \"title\": {\"text\": \"Banyak Reply Tweet\"}}},\n",
              "                        {\"responsive\": true}\n",
              "                    ).then(function(){\n",
              "                            \n",
              "var gd = document.getElementById('f668a79c-eb7b-408e-83ad-3628f75e7b52');\n",
              "var x = new MutationObserver(function (mutations, observer) {{\n",
              "        var display = window.getComputedStyle(gd).display;\n",
              "        if (!display || display === 'none') {{\n",
              "            console.log([gd, 'removed!']);\n",
              "            Plotly.purge(gd);\n",
              "            observer.disconnect();\n",
              "        }}\n",
              "}});\n",
              "\n",
              "// Listen for the removal of the full notebook cells\n",
              "var notebookContainer = gd.closest('#notebook-container');\n",
              "if (notebookContainer) {{\n",
              "    x.observe(notebookContainer, {childList: true});\n",
              "}}\n",
              "\n",
              "// Listen for the clearing of the current output cell\n",
              "var outputEl = gd.closest('.output');\n",
              "if (outputEl) {{\n",
              "    x.observe(outputEl, {childList: true});\n",
              "}}\n",
              "\n",
              "                        })\n",
              "                };\n",
              "                \n",
              "            </script>\n",
              "        </div>\n",
              "</body>\n",
              "</html>"
            ]
          },
          "metadata": {}
        }
      ]
    },
    {
      "cell_type": "code",
      "metadata": {
        "id": "b8Rt-rQ1Beee"
      },
      "source": [
        "import datetime\n",
        "\n",
        "data1 = df.copy()\n",
        "\n",
        "data1['created_at'] = pd.to_datetime(data1['created_at'])\n",
        "value = data1['created_at']"
      ],
      "execution_count": null,
      "outputs": []
    },
    {
      "cell_type": "code",
      "metadata": {
        "colab": {
          "base_uri": "https://localhost:8080/"
        },
        "id": "iaMuCODsBjCn",
        "outputId": "da69dbe8-3007-4dc8-c0d8-2a8810402ad3"
      },
      "source": [
        "def time(date):\n",
        "    time2 = date.time()\n",
        "    return time2\n",
        "\n",
        "data1['time'] = value.map(time)\n",
        "data1['time'].head()"
      ],
      "execution_count": null,
      "outputs": [
        {
          "output_type": "execute_result",
          "data": {
            "text/plain": [
              "0    10:39:43\n",
              "1    10:37:43\n",
              "2    10:33:28\n",
              "3    10:33:02\n",
              "4    10:32:56\n",
              "Name: time, dtype: object"
            ]
          },
          "metadata": {},
          "execution_count": 43
        }
      ]
    },
    {
      "cell_type": "code",
      "metadata": {
        "colab": {
          "base_uri": "https://localhost:8080/",
          "height": 297
        },
        "id": "mIkORwhrBliB",
        "outputId": "4fd2b960-a2c3-4bdc-cb20-70d72e44d29b"
      },
      "source": [
        "data2 = data1.copy()\n",
        "\n",
        "def time_groups(time):\n",
        "    if time >= datetime.time(0,0) and time <= datetime.time(1,0):\n",
        "        return '12AM-1AM'\n",
        "    elif time >= datetime.time(1,0) and time <= datetime.time(2,0):\n",
        "        return '1AM-2AM'\n",
        "    elif time >= datetime.time(2,0) and time <= datetime.time(3,0):\n",
        "        return '2AM-3AM'\n",
        "    elif time >= datetime.time(3,0) and time <= datetime.time(4,0):\n",
        "        return '3AM-4AM'\n",
        "    elif time >= datetime.time(4,0) and time <= datetime.time(5,0):\n",
        "        return '4AM-5AM'\n",
        "    elif time >= datetime.time(5,0) and time <= datetime.time(6,0):\n",
        "        return '5AM-6AM'\n",
        "    elif time >= datetime.time(6,0) and time <= datetime.time(7,0):\n",
        "        return '6AM-7AM'\n",
        "    elif time >= datetime.time(7,0) and time <= datetime.time(8,0):\n",
        "        return '7AM-8AM'\n",
        "    elif time >= datetime.time(8,0) and time <= datetime.time(9,0):\n",
        "        return '8AM-9AM'\n",
        "    elif time >= datetime.time(9,0) and time <= datetime.time(10,0):\n",
        "        return '9AM-10AM'\n",
        "    elif time >= datetime.time(10,0) and time <= datetime.time(11,0):\n",
        "        return '10AM-11AM'\n",
        "    elif time >= datetime.time(11,0) and time <= datetime.time(12,0):\n",
        "        return '11AM-12PM'\n",
        "    elif time >= datetime.time(12,0) and time <= datetime.time(13,0):\n",
        "        return '12PM-1PM'\n",
        "    elif time >= datetime.time(13,0) and time <= datetime.time(14,0):\n",
        "        return '1PM-2PM'\n",
        "    elif time >= datetime.time(14,0) and time <= datetime.time(15,0):\n",
        "        return '2PM-3PM'\n",
        "    elif time >= datetime.time(15,0) and time <= datetime.time(16,0):\n",
        "        return '3PM-4PM'\n",
        "    elif time >= datetime.time(16,0) and time <= datetime.time(17,0):\n",
        "        return '4PM-5PM'\n",
        "    elif time >= datetime.time(17,0) and time <= datetime.time(18,0):\n",
        "        return '5PM-6PM'\n",
        "    elif time >= datetime.time(18,0) and time <= datetime.time(19,0):\n",
        "        return '6PM-7PM'\n",
        "    elif time >= datetime.time(19,0) and time <= datetime.time(20,0):\n",
        "        return '7PM-8PM'\n",
        "    elif time >= datetime.time(20,0) and time <= datetime.time(21,0):\n",
        "        return '8PM-9PM'\n",
        "    elif time >= datetime.time(21,0) and time <= datetime.time(22,0):\n",
        "        return '9PM-10PM'\n",
        "    elif time >= datetime.time(22,0) and time <= datetime.time(23,0):\n",
        "        return '10PM-11PM'\n",
        "    elif time >= datetime.time(23,0) and time <= datetime.time(23,59):\n",
        "        return '11PM-12AM'\n",
        "    else:\n",
        "        return 'other'\n",
        "\n",
        "data2[\"time groups\"] = data2['time'].map(time_groups)\n",
        "data2.head()"
      ],
      "execution_count": null,
      "outputs": [
        {
          "output_type": "execute_result",
          "data": {
            "text/html": [
              "<div>\n",
              "<style scoped>\n",
              "    .dataframe tbody tr th:only-of-type {\n",
              "        vertical-align: middle;\n",
              "    }\n",
              "\n",
              "    .dataframe tbody tr th {\n",
              "        vertical-align: top;\n",
              "    }\n",
              "\n",
              "    .dataframe thead th {\n",
              "        text-align: right;\n",
              "    }\n",
              "</style>\n",
              "<table border=\"1\" class=\"dataframe\">\n",
              "  <thead>\n",
              "    <tr style=\"text-align: right;\">\n",
              "      <th></th>\n",
              "      <th>created_at</th>\n",
              "      <th>id</th>\n",
              "      <th>tweet</th>\n",
              "      <th>in_reply_to_screen_name</th>\n",
              "      <th>retweet_count</th>\n",
              "      <th>favorite_count</th>\n",
              "      <th>time</th>\n",
              "      <th>time groups</th>\n",
              "    </tr>\n",
              "  </thead>\n",
              "  <tbody>\n",
              "    <tr>\n",
              "      <th>0</th>\n",
              "      <td>2021-10-30 10:39:43</td>\n",
              "      <td>1454397598689742849</td>\n",
              "      <td>RT @kamarulafiquez: Ramai salah anggap sebenar...</td>\n",
              "      <td>None</td>\n",
              "      <td>986</td>\n",
              "      <td>0</td>\n",
              "      <td>10:39:43</td>\n",
              "      <td>10AM-11AM</td>\n",
              "    </tr>\n",
              "    <tr>\n",
              "      <th>1</th>\n",
              "      <td>2021-10-30 10:37:43</td>\n",
              "      <td>1454397093028589569</td>\n",
              "      <td>RT @Arrof11: BREAKING NEWS \\n\\nFacebook ganti ...</td>\n",
              "      <td>None</td>\n",
              "      <td>2</td>\n",
              "      <td>0</td>\n",
              "      <td>10:37:43</td>\n",
              "      <td>10AM-11AM</td>\n",
              "    </tr>\n",
              "    <tr>\n",
              "      <th>2</th>\n",
              "      <td>2021-10-30 10:33:28</td>\n",
              "      <td>1454396023627915265</td>\n",
              "      <td>RT @KompasTV: Arti Simbol Meta, Nama Baru dari...</td>\n",
              "      <td>None</td>\n",
              "      <td>4</td>\n",
              "      <td>0</td>\n",
              "      <td>10:33:28</td>\n",
              "      <td>10AM-11AM</td>\n",
              "    </tr>\n",
              "    <tr>\n",
              "      <th>3</th>\n",
              "      <td>2021-10-30 10:33:02</td>\n",
              "      <td>1454395915385507841</td>\n",
              "      <td>RT @TheGreatpimp: FROM FACEBOOK TO META.\\n\\nBa...</td>\n",
              "      <td>None</td>\n",
              "      <td>1044</td>\n",
              "      <td>0</td>\n",
              "      <td>10:33:02</td>\n",
              "      <td>10AM-11AM</td>\n",
              "    </tr>\n",
              "    <tr>\n",
              "      <th>4</th>\n",
              "      <td>2021-10-30 10:32:56</td>\n",
              "      <td>1454395891515740163</td>\n",
              "      <td>RT @azlanhuzeifa: So Facebook dalam proses ber...</td>\n",
              "      <td>None</td>\n",
              "      <td>6</td>\n",
              "      <td>0</td>\n",
              "      <td>10:32:56</td>\n",
              "      <td>10AM-11AM</td>\n",
              "    </tr>\n",
              "  </tbody>\n",
              "</table>\n",
              "</div>"
            ],
            "text/plain": [
              "           created_at                   id  ...      time time groups\n",
              "0 2021-10-30 10:39:43  1454397598689742849  ...  10:39:43   10AM-11AM\n",
              "1 2021-10-30 10:37:43  1454397093028589569  ...  10:37:43   10AM-11AM\n",
              "2 2021-10-30 10:33:28  1454396023627915265  ...  10:33:28   10AM-11AM\n",
              "3 2021-10-30 10:33:02  1454395915385507841  ...  10:33:02   10AM-11AM\n",
              "4 2021-10-30 10:32:56  1454395891515740163  ...  10:32:56   10AM-11AM\n",
              "\n",
              "[5 rows x 8 columns]"
            ]
          },
          "metadata": {},
          "execution_count": 44
        }
      ]
    },
    {
      "cell_type": "code",
      "metadata": {
        "colab": {
          "base_uri": "https://localhost:8080/",
          "height": 417
        },
        "id": "09gwyQ2CBoYH",
        "outputId": "b30ec3e2-0c61-4eea-efea-68e1b2d9fedb"
      },
      "source": [
        "data3 = data2['time groups'].value_counts().head(10)\n",
        "data3 = pd.DataFrame(data=data3)\n",
        "data3.reset_index(inplace=True)\n",
        "data3 = data3.rename(columns = {'index':'Waktu','time groups':'Banyak Tweet'})\n",
        "data3\n",
        "\n",
        "fig2 = px.bar(data3, x='Waktu', y='Banyak Tweet', color='Waktu', title = 'Peak Time Tweet yang Membahas Tentang Meta', height=400)\n",
        "fig2.show()"
      ],
      "execution_count": null,
      "outputs": [
        {
          "output_type": "display_data",
          "data": {
            "text/html": [
              "<html>\n",
              "<head><meta charset=\"utf-8\" /></head>\n",
              "<body>\n",
              "    <div>\n",
              "            <script src=\"https://cdnjs.cloudflare.com/ajax/libs/mathjax/2.7.5/MathJax.js?config=TeX-AMS-MML_SVG\"></script><script type=\"text/javascript\">if (window.MathJax) {MathJax.Hub.Config({SVG: {font: \"STIX-Web\"}});}</script>\n",
              "                <script type=\"text/javascript\">window.PlotlyConfig = {MathJaxConfig: 'local'};</script>\n",
              "        <script src=\"https://cdn.plot.ly/plotly-latest.min.js\"></script>    \n",
              "            <div id=\"4107b1cd-56c8-4341-abb2-605c32d9630a\" class=\"plotly-graph-div\" style=\"height:400px; width:100%;\"></div>\n",
              "            <script type=\"text/javascript\">\n",
              "                \n",
              "                    window.PLOTLYENV=window.PLOTLYENV || {};\n",
              "                    \n",
              "                if (document.getElementById(\"4107b1cd-56c8-4341-abb2-605c32d9630a\")) {\n",
              "                    Plotly.newPlot(\n",
              "                        '4107b1cd-56c8-4341-abb2-605c32d9630a',\n",
              "                        [{\"alignmentgroup\": \"True\", \"hoverlabel\": {\"namelength\": 0}, \"hovertemplate\": \"Waktu=%{x}<br>Banyak Tweet=%{y}\", \"legendgroup\": \"Waktu=4AM-5AM\", \"marker\": {\"color\": \"#636efa\"}, \"name\": \"Waktu=4AM-5AM\", \"offsetgroup\": \"Waktu=4AM-5AM\", \"orientation\": \"v\", \"showlegend\": true, \"textposition\": \"auto\", \"type\": \"bar\", \"x\": [\"4AM-5AM\"], \"xaxis\": \"x\", \"y\": [908], \"yaxis\": \"y\"}, {\"alignmentgroup\": \"True\", \"hoverlabel\": {\"namelength\": 0}, \"hovertemplate\": \"Waktu=%{x}<br>Banyak Tweet=%{y}\", \"legendgroup\": \"Waktu=3AM-4AM\", \"marker\": {\"color\": \"#EF553B\"}, \"name\": \"Waktu=3AM-4AM\", \"offsetgroup\": \"Waktu=3AM-4AM\", \"orientation\": \"v\", \"showlegend\": true, \"textposition\": \"auto\", \"type\": \"bar\", \"x\": [\"3AM-4AM\"], \"xaxis\": \"x\", \"y\": [825], \"yaxis\": \"y\"}, {\"alignmentgroup\": \"True\", \"hoverlabel\": {\"namelength\": 0}, \"hovertemplate\": \"Waktu=%{x}<br>Banyak Tweet=%{y}\", \"legendgroup\": \"Waktu=1AM-2AM\", \"marker\": {\"color\": \"#00cc96\"}, \"name\": \"Waktu=1AM-2AM\", \"offsetgroup\": \"Waktu=1AM-2AM\", \"orientation\": \"v\", \"showlegend\": true, \"textposition\": \"auto\", \"type\": \"bar\", \"x\": [\"1AM-2AM\"], \"xaxis\": \"x\", \"y\": [811], \"yaxis\": \"y\"}, {\"alignmentgroup\": \"True\", \"hoverlabel\": {\"namelength\": 0}, \"hovertemplate\": \"Waktu=%{x}<br>Banyak Tweet=%{y}\", \"legendgroup\": \"Waktu=6AM-7AM\", \"marker\": {\"color\": \"#ab63fa\"}, \"name\": \"Waktu=6AM-7AM\", \"offsetgroup\": \"Waktu=6AM-7AM\", \"orientation\": \"v\", \"showlegend\": true, \"textposition\": \"auto\", \"type\": \"bar\", \"x\": [\"6AM-7AM\"], \"xaxis\": \"x\", \"y\": [797], \"yaxis\": \"y\"}, {\"alignmentgroup\": \"True\", \"hoverlabel\": {\"namelength\": 0}, \"hovertemplate\": \"Waktu=%{x}<br>Banyak Tweet=%{y}\", \"legendgroup\": \"Waktu=7AM-8AM\", \"marker\": {\"color\": \"#FFA15A\"}, \"name\": \"Waktu=7AM-8AM\", \"offsetgroup\": \"Waktu=7AM-8AM\", \"orientation\": \"v\", \"showlegend\": true, \"textposition\": \"auto\", \"type\": \"bar\", \"x\": [\"7AM-8AM\"], \"xaxis\": \"x\", \"y\": [776], \"yaxis\": \"y\"}, {\"alignmentgroup\": \"True\", \"hoverlabel\": {\"namelength\": 0}, \"hovertemplate\": \"Waktu=%{x}<br>Banyak Tweet=%{y}\", \"legendgroup\": \"Waktu=2AM-3AM\", \"marker\": {\"color\": \"#19d3f3\"}, \"name\": \"Waktu=2AM-3AM\", \"offsetgroup\": \"Waktu=2AM-3AM\", \"orientation\": \"v\", \"showlegend\": true, \"textposition\": \"auto\", \"type\": \"bar\", \"x\": [\"2AM-3AM\"], \"xaxis\": \"x\", \"y\": [744], \"yaxis\": \"y\"}, {\"alignmentgroup\": \"True\", \"hoverlabel\": {\"namelength\": 0}, \"hovertemplate\": \"Waktu=%{x}<br>Banyak Tweet=%{y}\", \"legendgroup\": \"Waktu=5AM-6AM\", \"marker\": {\"color\": \"#FF6692\"}, \"name\": \"Waktu=5AM-6AM\", \"offsetgroup\": \"Waktu=5AM-6AM\", \"orientation\": \"v\", \"showlegend\": true, \"textposition\": \"auto\", \"type\": \"bar\", \"x\": [\"5AM-6AM\"], \"xaxis\": \"x\", \"y\": [730], \"yaxis\": \"y\"}, {\"alignmentgroup\": \"True\", \"hoverlabel\": {\"namelength\": 0}, \"hovertemplate\": \"Waktu=%{x}<br>Banyak Tweet=%{y}\", \"legendgroup\": \"Waktu=6PM-7PM\", \"marker\": {\"color\": \"#B6E880\"}, \"name\": \"Waktu=6PM-7PM\", \"offsetgroup\": \"Waktu=6PM-7PM\", \"orientation\": \"v\", \"showlegend\": true, \"textposition\": \"auto\", \"type\": \"bar\", \"x\": [\"6PM-7PM\"], \"xaxis\": \"x\", \"y\": [715], \"yaxis\": \"y\"}, {\"alignmentgroup\": \"True\", \"hoverlabel\": {\"namelength\": 0}, \"hovertemplate\": \"Waktu=%{x}<br>Banyak Tweet=%{y}\", \"legendgroup\": \"Waktu=1PM-2PM\", \"marker\": {\"color\": \"#FF97FF\"}, \"name\": \"Waktu=1PM-2PM\", \"offsetgroup\": \"Waktu=1PM-2PM\", \"orientation\": \"v\", \"showlegend\": true, \"textposition\": \"auto\", \"type\": \"bar\", \"x\": [\"1PM-2PM\"], \"xaxis\": \"x\", \"y\": [705], \"yaxis\": \"y\"}, {\"alignmentgroup\": \"True\", \"hoverlabel\": {\"namelength\": 0}, \"hovertemplate\": \"Waktu=%{x}<br>Banyak Tweet=%{y}\", \"legendgroup\": \"Waktu=10AM-11AM\", \"marker\": {\"color\": \"#FECB52\"}, \"name\": \"Waktu=10AM-11AM\", \"offsetgroup\": \"Waktu=10AM-11AM\", \"orientation\": \"v\", \"showlegend\": true, \"textposition\": \"auto\", \"type\": \"bar\", \"x\": [\"10AM-11AM\"], \"xaxis\": \"x\", \"y\": [704], \"yaxis\": \"y\"}],\n",
              "                        {\"barmode\": \"relative\", \"height\": 400, \"legend\": {\"tracegroupgap\": 0}, \"template\": {\"data\": {\"bar\": [{\"error_x\": {\"color\": \"#2a3f5f\"}, \"error_y\": {\"color\": \"#2a3f5f\"}, \"marker\": {\"line\": {\"color\": \"#E5ECF6\", \"width\": 0.5}}, \"type\": \"bar\"}], \"barpolar\": [{\"marker\": {\"line\": {\"color\": \"#E5ECF6\", \"width\": 0.5}}, \"type\": \"barpolar\"}], \"carpet\": [{\"aaxis\": {\"endlinecolor\": \"#2a3f5f\", \"gridcolor\": \"white\", \"linecolor\": \"white\", \"minorgridcolor\": \"white\", \"startlinecolor\": \"#2a3f5f\"}, \"baxis\": {\"endlinecolor\": \"#2a3f5f\", \"gridcolor\": \"white\", \"linecolor\": \"white\", \"minorgridcolor\": \"white\", \"startlinecolor\": \"#2a3f5f\"}, \"type\": \"carpet\"}], \"choropleth\": [{\"colorbar\": {\"outlinewidth\": 0, \"ticks\": \"\"}, \"type\": \"choropleth\"}], \"contour\": [{\"colorbar\": {\"outlinewidth\": 0, \"ticks\": \"\"}, \"colorscale\": [[0.0, \"#0d0887\"], [0.1111111111111111, \"#46039f\"], [0.2222222222222222, \"#7201a8\"], [0.3333333333333333, \"#9c179e\"], [0.4444444444444444, \"#bd3786\"], [0.5555555555555556, \"#d8576b\"], [0.6666666666666666, \"#ed7953\"], [0.7777777777777778, \"#fb9f3a\"], [0.8888888888888888, \"#fdca26\"], [1.0, \"#f0f921\"]], \"type\": \"contour\"}], \"contourcarpet\": [{\"colorbar\": {\"outlinewidth\": 0, \"ticks\": \"\"}, \"type\": \"contourcarpet\"}], \"heatmap\": [{\"colorbar\": {\"outlinewidth\": 0, \"ticks\": \"\"}, \"colorscale\": [[0.0, \"#0d0887\"], [0.1111111111111111, \"#46039f\"], [0.2222222222222222, \"#7201a8\"], [0.3333333333333333, \"#9c179e\"], [0.4444444444444444, \"#bd3786\"], [0.5555555555555556, \"#d8576b\"], [0.6666666666666666, \"#ed7953\"], [0.7777777777777778, \"#fb9f3a\"], [0.8888888888888888, \"#fdca26\"], [1.0, \"#f0f921\"]], \"type\": \"heatmap\"}], \"heatmapgl\": [{\"colorbar\": {\"outlinewidth\": 0, \"ticks\": \"\"}, \"colorscale\": [[0.0, \"#0d0887\"], [0.1111111111111111, \"#46039f\"], [0.2222222222222222, \"#7201a8\"], [0.3333333333333333, \"#9c179e\"], [0.4444444444444444, \"#bd3786\"], [0.5555555555555556, \"#d8576b\"], [0.6666666666666666, \"#ed7953\"], [0.7777777777777778, \"#fb9f3a\"], [0.8888888888888888, \"#fdca26\"], [1.0, \"#f0f921\"]], \"type\": \"heatmapgl\"}], \"histogram\": [{\"marker\": {\"colorbar\": {\"outlinewidth\": 0, \"ticks\": \"\"}}, \"type\": \"histogram\"}], \"histogram2d\": [{\"colorbar\": {\"outlinewidth\": 0, \"ticks\": \"\"}, \"colorscale\": [[0.0, \"#0d0887\"], [0.1111111111111111, \"#46039f\"], [0.2222222222222222, \"#7201a8\"], [0.3333333333333333, \"#9c179e\"], [0.4444444444444444, \"#bd3786\"], [0.5555555555555556, \"#d8576b\"], [0.6666666666666666, \"#ed7953\"], [0.7777777777777778, \"#fb9f3a\"], [0.8888888888888888, \"#fdca26\"], [1.0, \"#f0f921\"]], \"type\": \"histogram2d\"}], \"histogram2dcontour\": [{\"colorbar\": {\"outlinewidth\": 0, \"ticks\": \"\"}, \"colorscale\": [[0.0, \"#0d0887\"], [0.1111111111111111, \"#46039f\"], [0.2222222222222222, \"#7201a8\"], [0.3333333333333333, \"#9c179e\"], [0.4444444444444444, \"#bd3786\"], [0.5555555555555556, \"#d8576b\"], [0.6666666666666666, \"#ed7953\"], [0.7777777777777778, \"#fb9f3a\"], [0.8888888888888888, \"#fdca26\"], [1.0, \"#f0f921\"]], \"type\": \"histogram2dcontour\"}], \"mesh3d\": [{\"colorbar\": {\"outlinewidth\": 0, \"ticks\": \"\"}, \"type\": \"mesh3d\"}], \"parcoords\": [{\"line\": {\"colorbar\": {\"outlinewidth\": 0, \"ticks\": \"\"}}, \"type\": \"parcoords\"}], \"pie\": [{\"automargin\": true, \"type\": \"pie\"}], \"scatter\": [{\"marker\": {\"colorbar\": {\"outlinewidth\": 0, \"ticks\": \"\"}}, \"type\": \"scatter\"}], \"scatter3d\": [{\"line\": {\"colorbar\": {\"outlinewidth\": 0, \"ticks\": \"\"}}, \"marker\": {\"colorbar\": {\"outlinewidth\": 0, \"ticks\": \"\"}}, \"type\": \"scatter3d\"}], \"scattercarpet\": [{\"marker\": {\"colorbar\": {\"outlinewidth\": 0, \"ticks\": \"\"}}, \"type\": \"scattercarpet\"}], \"scattergeo\": [{\"marker\": {\"colorbar\": {\"outlinewidth\": 0, \"ticks\": \"\"}}, \"type\": \"scattergeo\"}], \"scattergl\": [{\"marker\": {\"colorbar\": {\"outlinewidth\": 0, \"ticks\": \"\"}}, \"type\": \"scattergl\"}], \"scattermapbox\": [{\"marker\": {\"colorbar\": {\"outlinewidth\": 0, \"ticks\": \"\"}}, \"type\": \"scattermapbox\"}], \"scatterpolar\": [{\"marker\": {\"colorbar\": {\"outlinewidth\": 0, \"ticks\": \"\"}}, \"type\": \"scatterpolar\"}], \"scatterpolargl\": [{\"marker\": {\"colorbar\": {\"outlinewidth\": 0, \"ticks\": \"\"}}, \"type\": \"scatterpolargl\"}], \"scatterternary\": [{\"marker\": {\"colorbar\": {\"outlinewidth\": 0, \"ticks\": \"\"}}, \"type\": \"scatterternary\"}], \"surface\": [{\"colorbar\": {\"outlinewidth\": 0, \"ticks\": \"\"}, \"colorscale\": [[0.0, \"#0d0887\"], [0.1111111111111111, \"#46039f\"], [0.2222222222222222, \"#7201a8\"], [0.3333333333333333, \"#9c179e\"], [0.4444444444444444, \"#bd3786\"], [0.5555555555555556, \"#d8576b\"], [0.6666666666666666, \"#ed7953\"], [0.7777777777777778, \"#fb9f3a\"], [0.8888888888888888, \"#fdca26\"], [1.0, \"#f0f921\"]], \"type\": \"surface\"}], \"table\": [{\"cells\": {\"fill\": {\"color\": \"#EBF0F8\"}, \"line\": {\"color\": \"white\"}}, \"header\": {\"fill\": {\"color\": \"#C8D4E3\"}, \"line\": {\"color\": \"white\"}}, \"type\": \"table\"}]}, \"layout\": {\"annotationdefaults\": {\"arrowcolor\": \"#2a3f5f\", \"arrowhead\": 0, \"arrowwidth\": 1}, \"coloraxis\": {\"colorbar\": {\"outlinewidth\": 0, \"ticks\": \"\"}}, \"colorscale\": {\"diverging\": [[0, \"#8e0152\"], [0.1, \"#c51b7d\"], [0.2, \"#de77ae\"], [0.3, \"#f1b6da\"], [0.4, \"#fde0ef\"], [0.5, \"#f7f7f7\"], [0.6, \"#e6f5d0\"], [0.7, \"#b8e186\"], [0.8, \"#7fbc41\"], [0.9, \"#4d9221\"], [1, \"#276419\"]], \"sequential\": [[0.0, \"#0d0887\"], [0.1111111111111111, \"#46039f\"], [0.2222222222222222, \"#7201a8\"], [0.3333333333333333, \"#9c179e\"], [0.4444444444444444, \"#bd3786\"], [0.5555555555555556, \"#d8576b\"], [0.6666666666666666, \"#ed7953\"], [0.7777777777777778, \"#fb9f3a\"], [0.8888888888888888, \"#fdca26\"], [1.0, \"#f0f921\"]], \"sequentialminus\": [[0.0, \"#0d0887\"], [0.1111111111111111, \"#46039f\"], [0.2222222222222222, \"#7201a8\"], [0.3333333333333333, \"#9c179e\"], [0.4444444444444444, \"#bd3786\"], [0.5555555555555556, \"#d8576b\"], [0.6666666666666666, \"#ed7953\"], [0.7777777777777778, \"#fb9f3a\"], [0.8888888888888888, \"#fdca26\"], [1.0, \"#f0f921\"]]}, \"colorway\": [\"#636efa\", \"#EF553B\", \"#00cc96\", \"#ab63fa\", \"#FFA15A\", \"#19d3f3\", \"#FF6692\", \"#B6E880\", \"#FF97FF\", \"#FECB52\"], \"font\": {\"color\": \"#2a3f5f\"}, \"geo\": {\"bgcolor\": \"white\", \"lakecolor\": \"white\", \"landcolor\": \"#E5ECF6\", \"showlakes\": true, \"showland\": true, \"subunitcolor\": \"white\"}, \"hoverlabel\": {\"align\": \"left\"}, \"hovermode\": \"closest\", \"mapbox\": {\"style\": \"light\"}, \"paper_bgcolor\": \"white\", \"plot_bgcolor\": \"#E5ECF6\", \"polar\": {\"angularaxis\": {\"gridcolor\": \"white\", \"linecolor\": \"white\", \"ticks\": \"\"}, \"bgcolor\": \"#E5ECF6\", \"radialaxis\": {\"gridcolor\": \"white\", \"linecolor\": \"white\", \"ticks\": \"\"}}, \"scene\": {\"xaxis\": {\"backgroundcolor\": \"#E5ECF6\", \"gridcolor\": \"white\", \"gridwidth\": 2, \"linecolor\": \"white\", \"showbackground\": true, \"ticks\": \"\", \"zerolinecolor\": \"white\"}, \"yaxis\": {\"backgroundcolor\": \"#E5ECF6\", \"gridcolor\": \"white\", \"gridwidth\": 2, \"linecolor\": \"white\", \"showbackground\": true, \"ticks\": \"\", \"zerolinecolor\": \"white\"}, \"zaxis\": {\"backgroundcolor\": \"#E5ECF6\", \"gridcolor\": \"white\", \"gridwidth\": 2, \"linecolor\": \"white\", \"showbackground\": true, \"ticks\": \"\", \"zerolinecolor\": \"white\"}}, \"shapedefaults\": {\"line\": {\"color\": \"#2a3f5f\"}}, \"ternary\": {\"aaxis\": {\"gridcolor\": \"white\", \"linecolor\": \"white\", \"ticks\": \"\"}, \"baxis\": {\"gridcolor\": \"white\", \"linecolor\": \"white\", \"ticks\": \"\"}, \"bgcolor\": \"#E5ECF6\", \"caxis\": {\"gridcolor\": \"white\", \"linecolor\": \"white\", \"ticks\": \"\"}}, \"title\": {\"x\": 0.05}, \"xaxis\": {\"automargin\": true, \"gridcolor\": \"white\", \"linecolor\": \"white\", \"ticks\": \"\", \"title\": {\"standoff\": 15}, \"zerolinecolor\": \"white\", \"zerolinewidth\": 2}, \"yaxis\": {\"automargin\": true, \"gridcolor\": \"white\", \"linecolor\": \"white\", \"ticks\": \"\", \"title\": {\"standoff\": 15}, \"zerolinecolor\": \"white\", \"zerolinewidth\": 2}}}, \"title\": {\"text\": \"Peak Time Tweet yang Membahas Tentang Meta\"}, \"xaxis\": {\"anchor\": \"y\", \"categoryarray\": [\"4AM-5AM\", \"3AM-4AM\", \"1AM-2AM\", \"6AM-7AM\", \"7AM-8AM\", \"2AM-3AM\", \"5AM-6AM\", \"6PM-7PM\", \"1PM-2PM\", \"10AM-11AM\"], \"categoryorder\": \"array\", \"domain\": [0.0, 1.0], \"title\": {\"text\": \"Waktu\"}}, \"yaxis\": {\"anchor\": \"x\", \"domain\": [0.0, 1.0], \"title\": {\"text\": \"Banyak Tweet\"}}},\n",
              "                        {\"responsive\": true}\n",
              "                    ).then(function(){\n",
              "                            \n",
              "var gd = document.getElementById('4107b1cd-56c8-4341-abb2-605c32d9630a');\n",
              "var x = new MutationObserver(function (mutations, observer) {{\n",
              "        var display = window.getComputedStyle(gd).display;\n",
              "        if (!display || display === 'none') {{\n",
              "            console.log([gd, 'removed!']);\n",
              "            Plotly.purge(gd);\n",
              "            observer.disconnect();\n",
              "        }}\n",
              "}});\n",
              "\n",
              "// Listen for the removal of the full notebook cells\n",
              "var notebookContainer = gd.closest('#notebook-container');\n",
              "if (notebookContainer) {{\n",
              "    x.observe(notebookContainer, {childList: true});\n",
              "}}\n",
              "\n",
              "// Listen for the clearing of the current output cell\n",
              "var outputEl = gd.closest('.output');\n",
              "if (outputEl) {{\n",
              "    x.observe(outputEl, {childList: true});\n",
              "}}\n",
              "\n",
              "                        })\n",
              "                };\n",
              "                \n",
              "            </script>\n",
              "        </div>\n",
              "</body>\n",
              "</html>"
            ]
          },
          "metadata": {}
        }
      ]
    },
    {
      "cell_type": "markdown",
      "metadata": {
        "id": "2uecojqUBs0n"
      },
      "source": [
        "# Geocode"
      ]
    },
    {
      "cell_type": "code",
      "metadata": {
        "colab": {
          "base_uri": "https://localhost:8080/"
        },
        "id": "ZfmUxkrsCEl2",
        "outputId": "197900c6-a218-4442-a84c-8a3b543c515d"
      },
      "source": [
        "#print(\"Beberapa tweet yang ditweet di DKI Jakarta dan Sekitarnya Terkait dengan Meta\")\n",
        "#auth = tweepy.auth.OAuthHandler(Ck, Cs)\n",
        "#auth.set_access_token(At, As)\n",
        "#api = tweepy.API(auth)\n",
        "\n",
        "#Geo, N = \"-6.175110,106.865036,25km\", 30  # Lat-Lon-Radius DKI Jakarta\n",
        "#qry = 'meta'\n",
        "#for tweet in tweepy.Cursor(api.search, q=qry, count=100, geocode=Geo).items(N):\n",
        "#    print([tweet.created_at, tweet.text.encode('utf-8'), tweet.user.id, tweet.geo])"
      ],
      "execution_count": null,
      "outputs": [
        {
          "output_type": "stream",
          "name": "stdout",
          "text": [
            "Beberapa tweet yang ditweet di DKI Jakarta dan Sekitarnya Terkait dengan Meta\n",
            "[datetime.datetime(2021, 11, 1, 14, 59, 46), b'@furrincrypto @Block_Meta_Mark Done https://t.co/E1siLk5by1', 1399552260938502151, None]\n",
            "[datetime.datetime(2021, 11, 1, 14, 49, 6), b'Mirip Apple Watch, Bocoran Foto Pertama Smartwatch Meta yang Punya Layar Besar dengan Bezel Tipis\\xe2\\x80\\xa6 https://t.co/U6Z9fuBJL9', 1343578945518592000, None]\n",
            "[datetime.datetime(2021, 11, 1, 14, 49, 5), b'Mirip Apple Watch, Bocoran Foto Pertama Smartwatch Meta yang Punya Layar Besar dengan Bezel Tipis https://t.co/AE3vnM2du9', 2413611692, None]\n",
            "[datetime.datetime(2021, 11, 1, 14, 42), b'Saham perusahaan Material Kanada melambung akibat Facebook mengganti nama.\\n\\n#merahputihcom #Meta #Facebook\\xe2\\x80\\xa6 https://t.co/0IX6zTwH2Z', 2714869507, None]\n",
            "[datetime.datetime(2021, 11, 1, 14, 35, 39), b'@furrincrypto @Block_Meta_Mark Semoga bermanfaat jika memang\\xf0\\x9f\\x99\\x8f', 1383826611800186887, None]\n",
            "[datetime.datetime(2021, 11, 1, 14, 28, 11), b'@furrincrypto @Block_Meta_Mark Done thank you so much !', 526980880, None]\n",
            "[datetime.datetime(2021, 11, 1, 14, 26, 6), b'Pemerintah Kazakhstan Bisa Tandai Konten Berbahaya Secara Langsung di Facebook https://t.co/hKyO8APtXh #Facebook\\xe2\\x80\\xa6 https://t.co/q7yr27WIY3', 1139396104347250688, None]\n",
            "[datetime.datetime(2021, 11, 1, 14, 23, 52), b'cs + econ is the new meta for 21s', 1397411749389688835, None]\n",
            "[datetime.datetime(2021, 11, 1, 14, 20, 59), b'Pendiri Facebook dan orang terkaya dunia Mark Zuckerberg baru saja meluncurkan aplikasi terbarunya bernama Meta.\\xe2\\x80\\xa6 https://t.co/f9Gma4yQfD', 1352206362780995584, None]\n",
            "[datetime.datetime(2021, 11, 1, 14, 19, 58), b\"This project is interesting, there can be a nice evolution because the blockchain is full of surprises. \\nIt's the f\\xe2\\x80\\xa6 https://t.co/1P2UZgMfn4\", 983855336267198465, None]\n",
            "[datetime.datetime(2021, 11, 1, 14, 18, 45), b'@furrincrypto @Block_Meta_Mark https://t.co/uGh6YEqJSw', 1156110699875061760, None]\n",
            "[datetime.datetime(2021, 11, 1, 14, 2, 36), b'Keputusan Mark Zuckerberg mengganti nama Facebook jadi Meta viral. Videonya juga curi perhatian karena ada penampak\\xe2\\x80\\xa6 https://t.co/xnrgsTQKoi', 69183155, None]\n",
            "[datetime.datetime(2021, 11, 1, 14, 2, 4), b'@furrincrypto @Block_Meta_Mark https://t.co/gNcVkSp1jp', 766191637332631552, None]\n",
            "[datetime.datetime(2021, 11, 1, 13, 52, 13), b\"This project is interesting, there can be a nice evolution because the blockchain is full of surprises. \\nIt's the f\\xe2\\x80\\xa6 https://t.co/kWcrpZAGIu\", 1371533296492892160, None]\n",
            "[datetime.datetime(2021, 11, 1, 13, 48), b'Bukan sekedar nama, \"Meta\" diambil dari istilan \"Metaverse\" yang melampaui pengetahuan kita tentang dunia digital/v\\xe2\\x80\\xa6 https://t.co/El8XmfKjj2', 41207735, None]\n",
            "[datetime.datetime(2021, 11, 1, 13, 44, 50), b'@furrincrypto @Block_Meta_Mark Done https://t.co/jHBbLUiUXY', 428390505, None]\n",
            "[datetime.datetime(2021, 11, 1, 13, 42, 35), b'@furrincrypto @Block_Meta_Mark D', 1446759902949494786, None]\n",
            "[datetime.datetime(2021, 11, 1, 13, 34, 51), b'@furrincrypto @Block_Meta_Mark Done https://t.co/Dg4fci5P8W', 2358845851, None]\n",
            "[datetime.datetime(2021, 11, 1, 13, 29, 39), b'Get all forms of information and issued resolved using the meta mask support link they are fast and reliable.\\xe2\\x80\\xa6 https://t.co/9m22wCCYUA', 1607572759, None]\n",
            "[datetime.datetime(2021, 11, 1, 13, 9, 21), b'still genuinely confused af on how on earth people have like five 5* meta weapon and struggling at the game and can\\xe2\\x80\\xa6 https://t.co/MMyH22jNCP', 2782261165, None]\n",
            "[datetime.datetime(2021, 11, 1, 12, 53, 50), b'@furrincrypto @Block_Meta_Mark Done', 924115431706599424, None]\n",
            "[datetime.datetime(2021, 11, 1, 12, 53, 20), b'@furrincrypto @Block_Meta_Mark Done follow https://t.co/xkeMnqom0G', 867625854561419264, None]\n",
            "[datetime.datetime(2021, 11, 1, 12, 46), b'@furrincrypto @Block_Meta_Mark https://t.co/YaCpC6vJIY', 1026981061828304896, None]\n",
            "[datetime.datetime(2021, 11, 1, 12, 43, 17), b'@furrincrypto @Block_Meta_Mark done https://t.co/yaUdMQSi4s', 435509194, None]\n",
            "[datetime.datetime(2021, 11, 1, 12, 40, 25), b'@furrincrypto @Block_Meta_Mark Bismillah \\xf0\\x9f\\xa4\\xb2\\nDone Follow all \\xf0\\x9f\\x91\\x8d', 1431603871726456836, None]\n",
            "[datetime.datetime(2021, 11, 1, 12, 33, 20), b'@furrincrypto @Block_Meta_Mark Done ka', 1418854230606204936, None]\n",
            "[datetime.datetime(2021, 11, 1, 12, 25, 59), b'Meta\\xe2\\x80\\x99s Andrew Bosworth on moving Facebook to the metaverse #decoderWithNilayPatel \\nhttps://t.co/osLAQvt4lE', 154077718, None]\n",
            "[datetime.datetime(2021, 11, 1, 12, 24, 26), b'@Solameleon This project looks very interesting. I am interested, and I will support this project until it is succe\\xe2\\x80\\xa6 https://t.co/c6GWBkUZXC', 1588756890, None]\n",
            "[datetime.datetime(2021, 11, 1, 12, 22, 49), b'@furrincrypto @Block_Meta_Mark https://t.co/Yq0SuzFPl1', 163716723, None]\n",
            "[datetime.datetime(2021, 11, 1, 12, 22, 10), b'@furrincrypto @Block_Meta_Mark Done', 1424569851503276045, None]\n"
          ]
        }
      ]
    },
    {
      "cell_type": "markdown",
      "metadata": {
        "id": "al9fiEl0CQ0_"
      },
      "source": [
        "# Cleaning Tweet"
      ]
    },
    {
      "cell_type": "code",
      "metadata": {
        "colab": {
          "base_uri": "https://localhost:8080/"
        },
        "id": "EYU0lNQmCZ59",
        "outputId": "b4d7001e-cf16-4484-8c97-c9c63e68c47a"
      },
      "source": [
        "pip install Sastrawi"
      ],
      "execution_count": null,
      "outputs": [
        {
          "output_type": "stream",
          "name": "stdout",
          "text": [
            "Requirement already satisfied: Sastrawi in /usr/local/lib/python3.7/dist-packages (1.0.1)\n"
          ]
        }
      ]
    },
    {
      "cell_type": "code",
      "metadata": {
        "id": "cB9gbWb-Cc85"
      },
      "source": [
        "import warnings; warnings.simplefilter('ignore')\n",
        "import re\n",
        "from nltk.tokenize import TweetTokenizer; Tokenizer = TweetTokenizer(reduce_len=True)\n",
        "from tqdm import tqdm#, trange\n",
        "from textblob import TextBlob\n",
        "from Sastrawi.StopWordRemover.StopWordRemoverFactory import StopWordRemoverFactory\n",
        "from Sastrawi.Stemmer.StemmerFactory import StemmerFactory"
      ],
      "execution_count": null,
      "outputs": []
    },
    {
      "cell_type": "code",
      "metadata": {
        "id": "Sioe-np9ClbG"
      },
      "source": [
        "D = df[\"tweet\"].tolist()"
      ],
      "execution_count": null,
      "outputs": []
    },
    {
      "cell_type": "code",
      "metadata": {
        "colab": {
          "base_uri": "https://localhost:8080/"
        },
        "id": "Xw3FrZfdCm3E",
        "outputId": "b4fd1167-895e-4cb4-840e-1acc4458c4a5"
      },
      "source": [
        "D[:5]"
      ],
      "execution_count": null,
      "outputs": [
        {
          "output_type": "execute_result",
          "data": {
            "text/plain": [
              "['RT @kamarulafiquez: Ramai salah anggap sebenarnya. Bukan Facebook tu tukar nama. Aplikasi Facebook tetap nama Facebook. Yang bertukar adala…',\n",
              " 'RT @Arrof11: BREAKING NEWS \\n\\nFacebook ganti nama jadi Meta. \\n\\nKenapa Meta? \\nKarena kalo \"eF A\" nyinyir melulu. \\nPalagi Neno, demo melulu.…',\n",
              " 'RT @KompasTV: Arti Simbol Meta, Nama Baru dari Facebook https://t.co/Z8nQniNy2f https://t.co/k1U8AUw1rd',\n",
              " 'RT @TheGreatpimp: FROM FACEBOOK TO META.\\n\\nBaru sahaja diumumkan. Penjenamaan semula untuk company Facebook. Menuju ke Metaverse. Company ut…',\n",
              " 'RT @azlanhuzeifa: So Facebook dalam proses beralih kepada Meta? \\n\\nInteresting.']"
            ]
          },
          "metadata": {},
          "execution_count": 53
        }
      ]
    },
    {
      "cell_type": "code",
      "metadata": {
        "id": "32NNahOlCsGw"
      },
      "source": [
        "stopId, lemmaId = tau.LoadStopWords(lang='id')"
      ],
      "execution_count": null,
      "outputs": []
    },
    {
      "cell_type": "code",
      "metadata": {
        "colab": {
          "base_uri": "https://localhost:8080/"
        },
        "id": "liq_fjMPCzFq",
        "outputId": "1080cafd-c3dd-4071-d517-169205eefc5c"
      },
      "source": [
        "cleaned_tweet = []\n",
        "for i, d in tqdm(enumerate(D)):\n",
        "    doc = tau.cleanText(d, lemma=lemmaId, stops = stopId, symbols_remove = True, min_charLen = 3, fixTag= True)\n",
        "    cleaned_tweet.append(doc)\n",
        "print(data[:3])"
      ],
      "execution_count": null,
      "outputs": [
        {
          "output_type": "stream",
          "name": "stderr",
          "text": [
            "15379it [00:15, 1021.31it/s]"
          ]
        },
        {
          "output_type": "stream",
          "name": "stdout",
          "text": [
            "           created_at                   id  ... retweet_count favorite_count\n",
            "0 2021-10-30 10:39:43  1454397598689742849  ...           986              0\n",
            "1 2021-10-30 10:39:31  1454397548525867014  ...           986              0\n",
            "2 2021-10-30 10:37:43  1454397093028589569  ...             2              0\n",
            "\n",
            "[3 rows x 6 columns]\n"
          ]
        },
        {
          "output_type": "stream",
          "name": "stderr",
          "text": [
            "\n"
          ]
        }
      ]
    },
    {
      "cell_type": "code",
      "metadata": {
        "colab": {
          "base_uri": "https://localhost:8080/",
          "height": 35
        },
        "id": "XzdsE342C8lw",
        "outputId": "41569184-40b6-47d4-fc53-f3b8099d17b4"
      },
      "source": [
        "file = 'data/Cleaned_Tweet.txt'\n",
        "with open(file, 'w') as f:\n",
        "    for d in cleaned_tweet:\n",
        "        f.write(d+'\\n')\n",
        "'Done'"
      ],
      "execution_count": null,
      "outputs": [
        {
          "output_type": "execute_result",
          "data": {
            "application/vnd.google.colaboratory.intrinsic+json": {
              "type": "string"
            },
            "text/plain": [
              "'Done'"
            ]
          },
          "metadata": {},
          "execution_count": 56
        }
      ]
    }
  ]
}